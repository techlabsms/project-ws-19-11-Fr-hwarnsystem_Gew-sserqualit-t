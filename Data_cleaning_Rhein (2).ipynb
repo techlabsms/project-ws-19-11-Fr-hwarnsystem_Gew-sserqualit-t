{
 "cells": [
  {
   "cell_type": "code",
   "execution_count": 1,
   "metadata": {},
   "outputs": [],
   "source": [
    "import matplotlib.pyplot as plt\n",
    "import pandas as pd\n",
    "import numpy as np"
   ]
  },
  {
   "cell_type": "code",
   "execution_count": 2,
   "metadata": {},
   "outputs": [],
   "source": [
    "#Data Upload\n",
    "df1 = pd.read_excel(r\"D:\\Sciebo\\TechLabs_AI_Track\\Team_11\\naduf_data\\Rhein_Rekingen_34.xlsx\", sheet_name='Sammelproben K')\n",
    "df2 = pd.read_excel(r\"D:\\Sciebo\\TechLabs_AI_Track\\Team_11\\naduf_data\\Rhein_Laufenburg_08.xlsx\", sheet_name='Sammelproben K')\n",
    "df3 = pd.read_excel(r\"D:\\Sciebo\\TechLabs_AI_Track\\Team_11\\naduf_data\\Rhein_Diepoldsau_34.xlsx\", sheet_name='Sammelproben K')\n",
    "df4 = pd.read_excel(r\"D:\\Sciebo\\TechLabs_AI_Track\\Team_11\\naduf_data\\Rhein_Rheinfelden_08.xlsx\", sheet_name='Sammelproben K')\n",
    "df5 = pd.read_excel(r\"D:\\Sciebo\\TechLabs_AI_Track\\Team_11\\naduf_data\\Rhein_Schmitter_10.xlsx\", sheet_name='Sammelproben K')\n",
    "df6 = pd.read_excel(r\"D:\\Sciebo\\TechLabs_AI_Track\\Team_11\\naduf_data\\Rhein_Village-Neuf_10.xlsx\", sheet_name='Sammelproben K')\n",
    "df7 = pd.read_excel(r\"D:\\Sciebo\\TechLabs_AI_Track\\Team_11\\naduf_data\\Rhein_Weil_Jahrbuch_29.xlsx\", sheet_name='Sammelproben K')"
   ]
  },
  {
   "cell_type": "code",
   "execution_count": 3,
   "metadata": {},
   "outputs": [],
   "source": [
    "#cutting off frist explanatory row\n",
    "df1=df1.iloc[1:]\n",
    "df2=df2.iloc[1:]\n",
    "df3=df3.iloc[1:]\n",
    "df4=df4.iloc[1:]\n",
    "df5=df5.iloc[1:]\n",
    "df6=df6.iloc[1:]\n",
    "df7=df7.iloc[1:]"
   ]
  },
  {
   "cell_type": "code",
   "execution_count": 6,
   "metadata": {},
   "outputs": [],
   "source": [
    "#append frames to one \n",
    "dfx = df1.append(df2, ignore_index=True, sort=False)\n",
    "dfx = dfx.append(df3, ignore_index=True, sort=False)\n",
    "dfx = dfx.append(df4, ignore_index=True, sort=False)\n",
    "dfx = dfx.append(df5, ignore_index=True, sort=False)"
   ]
  },
  {
   "cell_type": "code",
   "execution_count": 7,
   "metadata": {},
   "outputs": [],
   "source": [
    "#set row for year, month and day \n",
    "dfx['Datum'] = pd.to_datetime(dfx['Datum'])\n",
    "dfx['year'] = dfx['Datum'].dt.year\n",
    "dfx['month'] = dfx['Datum'].dt.month\n",
    "dfx['day'] = dfx['Datum'].dt.day"
   ]
  },
  {
   "cell_type": "code",
   "execution_count": 8,
   "metadata": {},
   "outputs": [
    {
     "data": {
      "text/plain": [
       "3113"
      ]
     },
     "execution_count": 8,
     "metadata": {},
     "output_type": "execute_result"
    }
   ],
   "source": [
    "dfx[\"Datum\"].count()"
   ]
  },
  {
   "cell_type": "code",
   "execution_count": null,
   "metadata": {},
   "outputs": [],
   "source": [
    "#dfx.to_csv(\"data_rhein.csv\")"
   ]
  },
  {
   "cell_type": "code",
   "execution_count": 27,
   "metadata": {},
   "outputs": [
    {
     "name": "stdout",
     "output_type": "stream",
     "text": [
      "<class 'pandas.core.frame.DataFrame'>\n",
      "RangeIndex: 3113 entries, 0 to 3112\n",
      "Data columns (total 62 columns):\n",
      "Kürzel                           3113 non-null object\n",
      "Status Nr.                       1264 non-null object\n",
      "Bemerkung                        275 non-null object\n",
      "Labornummer                      3078 non-null object\n",
      "Jahr                             3111 non-null object\n",
      "Datum                            3113 non-null datetime64[ns]\n",
      "Dauer                            3113 non-null object\n",
      "Mittl.Abfluss                    3048 non-null object\n",
      "Abflussumme                      3048 non-null object\n",
      "Temp.(BAFU)                      3049 non-null object\n",
      "pH(BAFU)                         2919 non-null object\n",
      "Leitf. 25°C(BAFU)                2920 non-null object\n",
      "Sauerstoff                       2896 non-null object\n",
      "Sauerstoffsätt.%                 2896 non-null object\n",
      "Mittl.Abfluss.1                  3097 non-null object\n",
      "Abflussumme.1                    3097 non-null object\n",
      "Temp.(BAFU).1                    3113 non-null object\n",
      "pH(BAFU).1                       2872 non-null object\n",
      "Leitf. 25°C(BAFU).1              999 non-null object\n",
      "Sauerstoff.1                     2856 non-null object\n",
      "Sauerstoffsätt.%.1               2854 non-null object\n",
      "pH (EAWAG)                       3039 non-null object\n",
      "Leitf.20°C (EAWAG)               3046 non-null object\n",
      "Gesamthärte                      3052 non-null object\n",
      "Alkalinität                      3052 non-null object\n",
      "Calcium                          3050 non-null object\n",
      "Magnesium                        3050 non-null object\n",
      "Nitrit                           1259 non-null object\n",
      "Nitrat                           3052 non-null object\n",
      "Ammonium                         1256 non-null object\n",
      "Kjeldahl-Stickstoff              1135 non-null object\n",
      "Gesamt-Stickstoff (filtriert)    23 non-null object\n",
      "Gesamt-Stickstoff                2904 non-null object\n",
      "DRP                              3033 non-null object\n",
      "Gesamt-Phosphor                  3024 non-null object\n",
      "Gesamt-Phosphor (filtriert)      551 non-null object\n",
      "Chlorid                          3057 non-null object\n",
      "Kieselsäure                      3052 non-null object\n",
      "Sulfat                           3032 non-null object\n",
      "Natrium                          3055 non-null object\n",
      "Kalium                           3038 non-null object\n",
      "Eisen                            680 non-null object\n",
      "Chem.Sauerstoffbedarf            196 non-null object\n",
      "TOC                              2964 non-null object\n",
      "DOC                              3043 non-null object\n",
      "Schwebstoffe                     3005 non-null object\n",
      "Chrom                            628 non-null object\n",
      "Zink                             1252 non-null object\n",
      "Kupfer                           1297 non-null object\n",
      "Cadmium                          1287 non-null object\n",
      "Blei                             1263 non-null object\n",
      "Nickel                           467 non-null object\n",
      "Quecksilber                      21 non-null object\n",
      "NP                               123 non-null object\n",
      "NP1EO                            122 non-null object\n",
      "NP2EO                            118 non-null object\n",
      "NP3EO                            25 non-null object\n",
      "Calcium (IC)                     535 non-null object\n",
      "Status Nr.                       1849 non-null object\n",
      "year                             3113 non-null int64\n",
      "month                            3113 non-null int64\n",
      "day                              3113 non-null int64\n",
      "dtypes: datetime64[ns](1), int64(3), object(58)\n",
      "memory usage: 1.5+ MB\n"
     ]
    }
   ],
   "source": [
    "#info\n",
    "dfx.info()"
   ]
  }
 ],
 "metadata": {
  "kernelspec": {
   "display_name": "Python 3",
   "language": "python",
   "name": "python3"
  },
  "language_info": {
   "codemirror_mode": {
    "name": "ipython",
    "version": 3
   },
   "file_extension": ".py",
   "mimetype": "text/x-python",
   "name": "python",
   "nbconvert_exporter": "python",
   "pygments_lexer": "ipython3",
   "version": "3.7.3"
  }
 },
 "nbformat": 4,
 "nbformat_minor": 2
}
