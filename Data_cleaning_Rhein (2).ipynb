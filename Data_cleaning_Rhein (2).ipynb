{
 "cells": [
  {
   "cell_type": "code",
   "execution_count": 2,
   "metadata": {},
   "outputs": [],
   "source": [
    "import matplotlib.pyplot as plt\n",
    "import pandas as pd\n",
    "import numpy as np"
   ]
  },
  {
   "cell_type": "code",
   "execution_count": 3,
   "metadata": {},
   "outputs": [],
   "source": [
    "df1 = pd.read_excel(\"Rhein_Rekingen_34.xlsx\", sheet_name='Sammelproben K')\n",
    "df2 = pd.read_excel(\"Rhein_Laufenburg_08.xlsx\", sheet_name='Sammelproben K')\n",
    "df3 = pd.read_excel(\"Rhein_Diepoldsau_34.xlsx\", sheet_name='Sammelproben K')\n",
    "df4 = pd.read_excel(\"Rhein_Rheinfelden_08.xlsx\", sheet_name='Sammelproben K')\n",
    "df5 = pd.read_excel(\"Rhein_Schmitter_10.xlsx\", sheet_name='Sammelproben K')\n",
    "df6 = pd.read_excel(\"Rhein_Village-Neuf_10.xlsx\", sheet_name='Sammelproben K')\n",
    "df7 = pd.read_excel(\"Rhein_Weil_Jahrbuch_29.xlsx\", sheet_name='Sammelproben K')"
   ]
  },
  {
   "cell_type": "code",
   "execution_count": 4,
   "metadata": {},
   "outputs": [],
   "source": [
    "#cutting off frist explanatory row\n",
    "df1=df1.iloc[1:]\n",
    "df2=df2.iloc[1:]\n",
    "df3=df3.iloc[1:]\n",
    "df4=df4.iloc[1:]\n",
    "df5=df5.iloc[1:]\n",
    "df6=df6.iloc[1:]\n",
    "df7=df7.iloc[1:]"
   ]
  },
  {
   "cell_type": "code",
   "execution_count": 5,
   "metadata": {},
   "outputs": [],
   "source": [
    "#add value of river kilometers\n",
    "df1 = df1.assign(Rheinkilometer='90')\n",
    "df2 = df2.assign(Rheinkilometer='122')\n",
    "df3 = df3.assign(Rheinkilometer='0')\n",
    "df4 = df4.assign(Rheinkilometer='150')\n",
    "df5 = df5.assign(Rheinkilometer='0')\n",
    "df6 = df6.assign(Rheinkilometer='173')\n",
    "df7 = df7.assign(Rheinkilometer='170')"
   ]
  },
  {
   "cell_type": "code",
   "execution_count": 6,
   "metadata": {},
   "outputs": [],
   "source": [
    "#append frames to one \n",
    "dfx = df1.append(df2, ignore_index=True, sort=False)\n",
    "dfx = dfx.append(df3, ignore_index=True, sort=False)\n",
    "dfx = dfx.append(df4, ignore_index=True, sort=False)\n",
    "dfx = dfx.append(df5, ignore_index=True, sort=False)"
   ]
  },
  {
   "cell_type": "code",
   "execution_count": 7,
   "metadata": {},
   "outputs": [],
   "source": [
    "# combine station names DI and SC to DI\n",
    "dfx=dfx.replace(['SC'],[\"DI\"]) "
   ]
  },
  {
   "cell_type": "code",
   "execution_count": 8,
   "metadata": {},
   "outputs": [],
   "source": [
    "#set row for year, month and day \n",
    "dfx['Datum'] = pd.to_datetime(dfx['Datum'])\n",
    "dfx['year'] = dfx['Datum'].dt.year\n",
    "dfx['month'] = dfx['Datum'].dt.month\n",
    "dfx['day'] = dfx['Datum'].dt.day"
   ]
  },
  {
   "cell_type": "code",
   "execution_count": 9,
   "metadata": {},
   "outputs": [],
   "source": [
    "#delete colum with comments\n",
    "\n",
    "del dfx['Bemerkung']\n",
    "\n",
    "#objetcs to floats\n",
    "cols = dfx.columns.drop('Kürzel','Datum')\n",
    "dfx[cols] = dfx[cols].apply(pd.to_numeric, errors='coerce')\n",
    "\n",
    "#keep datetimeindex\n",
    "dfx['Datum'] = pd.to_datetime(dfx['Datum'])"
   ]
  },
  {
   "cell_type": "code",
   "execution_count": 10,
   "metadata": {},
   "outputs": [],
   "source": [
    "#export complete frame as csv\n",
    "dfx.to_csv(\"data_rhein_incl_km.csv\")\n",
    "dfx.to_excel(\"data_rhein_incl_km.xlsx\")"
   ]
  }
 ],
 "metadata": {
  "kernelspec": {
   "display_name": "Python 3",
   "language": "python",
   "name": "python3"
  },
  "language_info": {
   "codemirror_mode": {
    "name": "ipython",
    "version": 3
   },
   "file_extension": ".py",
   "mimetype": "text/x-python",
   "name": "python",
   "nbconvert_exporter": "python",
   "pygments_lexer": "ipython3",
   "version": "3.7.3"
  }
 },
 "nbformat": 4,
 "nbformat_minor": 2
}
