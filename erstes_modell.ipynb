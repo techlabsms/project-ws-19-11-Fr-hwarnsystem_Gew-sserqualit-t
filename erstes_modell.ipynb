{
 "cells": [
  {
   "cell_type": "code",
   "execution_count": 49,
   "metadata": {},
   "outputs": [],
   "source": [
    "import numpy as np\n",
    "import pandas as pd\n",
    "import xgboost as xgb\n",
    "from xgboost import DMatrix"
   ]
  },
  {
   "cell_type": "code",
   "execution_count": 50,
   "metadata": {},
   "outputs": [
    {
     "data": {
      "text/html": [
       "<div>\n",
       "<style scoped>\n",
       "    .dataframe tbody tr th:only-of-type {\n",
       "        vertical-align: middle;\n",
       "    }\n",
       "\n",
       "    .dataframe tbody tr th {\n",
       "        vertical-align: top;\n",
       "    }\n",
       "\n",
       "    .dataframe thead th {\n",
       "        text-align: right;\n",
       "    }\n",
       "</style>\n",
       "<table border=\"1\" class=\"dataframe\">\n",
       "  <thead>\n",
       "    <tr style=\"text-align: right;\">\n",
       "      <th></th>\n",
       "      <th>Unnamed: 0</th>\n",
       "      <th>Kürzel</th>\n",
       "      <th>Status Nr.</th>\n",
       "      <th>Bemerkung</th>\n",
       "      <th>Labornummer</th>\n",
       "      <th>Jahr</th>\n",
       "      <th>Datum</th>\n",
       "      <th>Dauer</th>\n",
       "      <th>Mittl.Abfluss</th>\n",
       "      <th>Abflussumme</th>\n",
       "      <th>...</th>\n",
       "      <th>Quecksilber</th>\n",
       "      <th>NP</th>\n",
       "      <th>NP1EO</th>\n",
       "      <th>NP2EO</th>\n",
       "      <th>NP3EO</th>\n",
       "      <th>Calcium (IC)</th>\n",
       "      <th>Status Nr.</th>\n",
       "      <th>year</th>\n",
       "      <th>month</th>\n",
       "      <th>day</th>\n",
       "    </tr>\n",
       "  </thead>\n",
       "  <tbody>\n",
       "    <tr>\n",
       "      <th>0</th>\n",
       "      <td>0</td>\n",
       "      <td>RE</td>\n",
       "      <td>7</td>\n",
       "      <td>NaN</td>\n",
       "      <td>16354.0</td>\n",
       "      <td>1975.0</td>\n",
       "      <td>1975-05-26 11:15:00</td>\n",
       "      <td>168.0</td>\n",
       "      <td>NaN</td>\n",
       "      <td>NaN</td>\n",
       "      <td>...</td>\n",
       "      <td>NaN</td>\n",
       "      <td>NaN</td>\n",
       "      <td>NaN</td>\n",
       "      <td>NaN</td>\n",
       "      <td>NaN</td>\n",
       "      <td>NaN</td>\n",
       "      <td>NaN</td>\n",
       "      <td>1975</td>\n",
       "      <td>5</td>\n",
       "      <td>26</td>\n",
       "    </tr>\n",
       "    <tr>\n",
       "      <th>1</th>\n",
       "      <td>1</td>\n",
       "      <td>RE</td>\n",
       "      <td>1</td>\n",
       "      <td>NaN</td>\n",
       "      <td>16487.0</td>\n",
       "      <td>1975.0</td>\n",
       "      <td>1975-06-02 11:45:00</td>\n",
       "      <td>169.0</td>\n",
       "      <td>683.0</td>\n",
       "      <td>415.5372</td>\n",
       "      <td>...</td>\n",
       "      <td>NaN</td>\n",
       "      <td>NaN</td>\n",
       "      <td>NaN</td>\n",
       "      <td>NaN</td>\n",
       "      <td>NaN</td>\n",
       "      <td>NaN</td>\n",
       "      <td>NaN</td>\n",
       "      <td>1975</td>\n",
       "      <td>6</td>\n",
       "      <td>2</td>\n",
       "    </tr>\n",
       "    <tr>\n",
       "      <th>2</th>\n",
       "      <td>2</td>\n",
       "      <td>RE</td>\n",
       "      <td>4</td>\n",
       "      <td>Pb unsicher: Wartung oder Beginn von Hochwasser?</td>\n",
       "      <td>16619.0</td>\n",
       "      <td>1975.0</td>\n",
       "      <td>1975-06-09 10:40:00</td>\n",
       "      <td>167.0</td>\n",
       "      <td>680.0</td>\n",
       "      <td>408.8160</td>\n",
       "      <td>...</td>\n",
       "      <td>NaN</td>\n",
       "      <td>NaN</td>\n",
       "      <td>NaN</td>\n",
       "      <td>NaN</td>\n",
       "      <td>NaN</td>\n",
       "      <td>NaN</td>\n",
       "      <td>NaN</td>\n",
       "      <td>1975</td>\n",
       "      <td>6</td>\n",
       "      <td>9</td>\n",
       "    </tr>\n",
       "    <tr>\n",
       "      <th>3</th>\n",
       "      <td>3</td>\n",
       "      <td>RE</td>\n",
       "      <td>1</td>\n",
       "      <td>NaN</td>\n",
       "      <td>16705.0</td>\n",
       "      <td>1975.0</td>\n",
       "      <td>1975-06-16 11:20:00</td>\n",
       "      <td>169.0</td>\n",
       "      <td>609.0</td>\n",
       "      <td>370.5156</td>\n",
       "      <td>...</td>\n",
       "      <td>NaN</td>\n",
       "      <td>NaN</td>\n",
       "      <td>NaN</td>\n",
       "      <td>NaN</td>\n",
       "      <td>NaN</td>\n",
       "      <td>NaN</td>\n",
       "      <td>NaN</td>\n",
       "      <td>1975</td>\n",
       "      <td>6</td>\n",
       "      <td>16</td>\n",
       "    </tr>\n",
       "    <tr>\n",
       "      <th>4</th>\n",
       "      <td>4</td>\n",
       "      <td>RE</td>\n",
       "      <td>1</td>\n",
       "      <td>NaN</td>\n",
       "      <td>16843.0</td>\n",
       "      <td>1975.0</td>\n",
       "      <td>1975-06-23 13:30:00</td>\n",
       "      <td>170.0</td>\n",
       "      <td>735.0</td>\n",
       "      <td>449.8200</td>\n",
       "      <td>...</td>\n",
       "      <td>NaN</td>\n",
       "      <td>NaN</td>\n",
       "      <td>NaN</td>\n",
       "      <td>NaN</td>\n",
       "      <td>NaN</td>\n",
       "      <td>NaN</td>\n",
       "      <td>NaN</td>\n",
       "      <td>1975</td>\n",
       "      <td>6</td>\n",
       "      <td>23</td>\n",
       "    </tr>\n",
       "  </tbody>\n",
       "</table>\n",
       "<p>5 rows × 63 columns</p>\n",
       "</div>"
      ],
      "text/plain": [
       "   Unnamed: 0 Kürzel Status Nr.   \\\n",
       "0           0     RE           7   \n",
       "1           1     RE           1   \n",
       "2           2     RE           4   \n",
       "3           3     RE           1   \n",
       "4           4     RE           1   \n",
       "\n",
       "                                          Bemerkung Labornummer    Jahr  \\\n",
       "0                                               NaN     16354.0  1975.0   \n",
       "1                                               NaN     16487.0  1975.0   \n",
       "2  Pb unsicher: Wartung oder Beginn von Hochwasser?     16619.0  1975.0   \n",
       "3                                               NaN     16705.0  1975.0   \n",
       "4                                               NaN     16843.0  1975.0   \n",
       "\n",
       "                 Datum  Dauer  Mittl.Abfluss  Abflussumme  ...  Quecksilber  \\\n",
       "0  1975-05-26 11:15:00  168.0            NaN          NaN  ...          NaN   \n",
       "1  1975-06-02 11:45:00  169.0          683.0     415.5372  ...          NaN   \n",
       "2  1975-06-09 10:40:00  167.0          680.0     408.8160  ...          NaN   \n",
       "3  1975-06-16 11:20:00  169.0          609.0     370.5156  ...          NaN   \n",
       "4  1975-06-23 13:30:00  170.0          735.0     449.8200  ...          NaN   \n",
       "\n",
       "   NP NP1EO NP2EO NP3EO  Calcium (IC)  Status Nr.  year  month  day  \n",
       "0 NaN   NaN   NaN   NaN           NaN         NaN  1975      5   26  \n",
       "1 NaN   NaN   NaN   NaN           NaN         NaN  1975      6    2  \n",
       "2 NaN   NaN   NaN   NaN           NaN         NaN  1975      6    9  \n",
       "3 NaN   NaN   NaN   NaN           NaN         NaN  1975      6   16  \n",
       "4 NaN   NaN   NaN   NaN           NaN         NaN  1975      6   23  \n",
       "\n",
       "[5 rows x 63 columns]"
      ]
     },
     "execution_count": 50,
     "metadata": {},
     "output_type": "execute_result"
    }
   ],
   "source": [
    "#import of complete dataframe\n",
    "rawdata = pd.read_csv(r\"D:\\Sciebo\\TechLabs_AI_Track\\Team_11\\Data\\data_rhein.csv\")\n",
    "rawdata.head()"
   ]
  },
  {
   "cell_type": "code",
   "execution_count": 51,
   "metadata": {},
   "outputs": [
    {
     "data": {
      "text/html": [
       "<div>\n",
       "<style scoped>\n",
       "    .dataframe tbody tr th:only-of-type {\n",
       "        vertical-align: middle;\n",
       "    }\n",
       "\n",
       "    .dataframe tbody tr th {\n",
       "        vertical-align: top;\n",
       "    }\n",
       "\n",
       "    .dataframe thead th {\n",
       "        text-align: right;\n",
       "    }\n",
       "</style>\n",
       "<table border=\"1\" class=\"dataframe\">\n",
       "  <thead>\n",
       "    <tr style=\"text-align: right;\">\n",
       "      <th></th>\n",
       "      <th>Kürzel</th>\n",
       "      <th>Nitrat</th>\n",
       "      <th>year</th>\n",
       "      <th>month</th>\n",
       "      <th>day</th>\n",
       "    </tr>\n",
       "  </thead>\n",
       "  <tbody>\n",
       "    <tr>\n",
       "      <th>0</th>\n",
       "      <td>RE</td>\n",
       "      <td>0.4</td>\n",
       "      <td>1975</td>\n",
       "      <td>5</td>\n",
       "      <td>26</td>\n",
       "    </tr>\n",
       "    <tr>\n",
       "      <th>1</th>\n",
       "      <td>RE</td>\n",
       "      <td>0.7</td>\n",
       "      <td>1975</td>\n",
       "      <td>6</td>\n",
       "      <td>2</td>\n",
       "    </tr>\n",
       "  </tbody>\n",
       "</table>\n",
       "</div>"
      ],
      "text/plain": [
       "  Kürzel  Nitrat  year  month  day\n",
       "0     RE     0.4  1975      5   26\n",
       "1     RE     0.7  1975      6    2"
      ]
     },
     "execution_count": 51,
     "metadata": {},
     "output_type": "execute_result"
    }
   ],
   "source": [
    "#pick one station and one value (Nitrat)\n",
    "dataRE = rawdata[[\"Kürzel\",\"Nitrat\",\"year\",\"month\",\"day\"]]\n",
    "dataRE.head(2)"
   ]
  },
  {
   "cell_type": "code",
   "execution_count": 52,
   "metadata": {},
   "outputs": [
    {
     "data": {
      "text/html": [
       "<div>\n",
       "<style scoped>\n",
       "    .dataframe tbody tr th:only-of-type {\n",
       "        vertical-align: middle;\n",
       "    }\n",
       "\n",
       "    .dataframe tbody tr th {\n",
       "        vertical-align: top;\n",
       "    }\n",
       "\n",
       "    .dataframe thead th {\n",
       "        text-align: right;\n",
       "    }\n",
       "</style>\n",
       "<table border=\"1\" class=\"dataframe\">\n",
       "  <thead>\n",
       "    <tr style=\"text-align: right;\">\n",
       "      <th></th>\n",
       "      <th>Nitrat</th>\n",
       "      <th>year</th>\n",
       "      <th>month</th>\n",
       "      <th>day</th>\n",
       "    </tr>\n",
       "  </thead>\n",
       "  <tbody>\n",
       "    <tr>\n",
       "      <th>0</th>\n",
       "      <td>0.4</td>\n",
       "      <td>1975</td>\n",
       "      <td>5</td>\n",
       "      <td>26</td>\n",
       "    </tr>\n",
       "    <tr>\n",
       "      <th>1</th>\n",
       "      <td>0.7</td>\n",
       "      <td>1975</td>\n",
       "      <td>6</td>\n",
       "      <td>2</td>\n",
       "    </tr>\n",
       "  </tbody>\n",
       "</table>\n",
       "</div>"
      ],
      "text/plain": [
       "   Nitrat  year  month  day\n",
       "0     0.4  1975      5   26\n",
       "1     0.7  1975      6    2"
      ]
     },
     "execution_count": 52,
     "metadata": {},
     "output_type": "execute_result"
    }
   ],
   "source": [
    "data = dataRE.loc[rawdata[\"Kürzel\"]==\"RE\"]\n",
    "data = data.drop(\"Kürzel\", axis=1)\n",
    "data.head(2)"
   ]
  },
  {
   "cell_type": "code",
   "execution_count": 53,
   "metadata": {},
   "outputs": [
    {
     "name": "stdout",
     "output_type": "stream",
     "text": [
      "Measurements: 1264\n",
      "80 % of value Nb. 1011\n"
     ]
    }
   ],
   "source": [
    "#calculate split for train/test data\n",
    "number_observations = data.shape[0]\n",
    "index = int(0.8 * number_observations)\n",
    "print(\"Measurements:\", number_observations)\n",
    "print(\"80 % of value Nb.\",index)"
   ]
  },
  {
   "cell_type": "code",
   "execution_count": 54,
   "metadata": {},
   "outputs": [],
   "source": [
    "#definde target\n",
    "target=data[\"Nitrat\"]"
   ]
  },
  {
   "cell_type": "code",
   "execution_count": 55,
   "metadata": {},
   "outputs": [],
   "source": [
    "# define data split and labels\n",
    "test_data = data.iloc[index:,:]\n",
    "test_label = target.iloc[index:]\n",
    "\n",
    "train_data = data.iloc[:index,:]\n",
    "train_label = target.iloc[:index]"
   ]
  },
  {
   "cell_type": "code",
   "execution_count": 41,
   "metadata": {},
   "outputs": [
    {
     "name": "stderr",
     "output_type": "stream",
     "text": [
      "C:\\Users\\raiko\\Anaconda3\\lib\\site-packages\\xgboost\\core.py:587: FutureWarning: Series.base is deprecated and will be removed in a future version\n",
      "  if getattr(data, 'base', None) is not None and \\\n",
      "C:\\Users\\raiko\\Anaconda3\\lib\\site-packages\\xgboost\\core.py:588: FutureWarning: Series.base is deprecated and will be removed in a future version\n",
      "  data.base is not None and isinstance(data, np.ndarray) \\\n"
     ]
    }
   ],
   "source": [
    "#define matrix with data and label\n",
    "train_matrix = DMatrix(data=train_data, label=train_label)\n",
    "test_matrix = DMatrix(data=test_data, label=test_label)"
   ]
  },
  {
   "cell_type": "code",
   "execution_count": 42,
   "metadata": {},
   "outputs": [],
   "source": [
    "#define model\n",
    "model = xgb.train(dtrain=train_matrix, params={\"silent\": False}, verbose_eval=True)\n",
    "prediction = model.predict(test_matrix)"
   ]
  },
  {
   "cell_type": "code",
   "execution_count": 43,
   "metadata": {},
   "outputs": [
    {
     "name": "stdout",
     "output_type": "stream",
     "text": [
      "RMSE: 0.7686699707937081\n"
     ]
    }
   ],
   "source": [
    "#create output: rsme of prediction\n",
    "rmse = np.sqrt(np.mean((test_label - prediction) ** 2))\n",
    "print(\"RMSE: {}\".format(rmse))"
   ]
  }
 ],
 "metadata": {
  "kernelspec": {
   "display_name": "Python 3",
   "language": "python",
   "name": "python3"
  },
  "language_info": {
   "codemirror_mode": {
    "name": "ipython",
    "version": 3
   },
   "file_extension": ".py",
   "mimetype": "text/x-python",
   "name": "python",
   "nbconvert_exporter": "python",
   "pygments_lexer": "ipython3",
   "version": "3.7.3"
  }
 },
 "nbformat": 4,
 "nbformat_minor": 2
}
