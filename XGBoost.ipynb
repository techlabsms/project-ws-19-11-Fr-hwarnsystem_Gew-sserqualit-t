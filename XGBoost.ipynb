{
 "cells": [
  {
   "cell_type": "code",
   "execution_count": 117,
   "metadata": {
    "scrolled": true
   },
   "outputs": [
    {
     "name": "stdout",
     "output_type": "stream",
     "text": [
      "Index(['Unnamed: 0', 'Kürzel', 'Status Nr. ', 'Labornummer', 'Jahr', 'Datum',\n",
      "       'Dauer', 'Mittl.Abfluss', 'Abflussumme', 'Temp.(BAFU)', 'pH(BAFU)',\n",
      "       'Leitf. 25°C(BAFU)', 'Sauerstoff', 'Sauerstoffsätt.%',\n",
      "       'Mittl.Abfluss.1', 'Abflussumme.1', 'Temp.(BAFU).1', 'pH(BAFU).1',\n",
      "       'Leitf. 25°C(BAFU).1', 'Sauerstoff.1', 'Sauerstoffsätt.%.1',\n",
      "       'pH (EAWAG)', 'Leitf.20°C (EAWAG)', 'Gesamthärte', 'Alkalinität',\n",
      "       'Calcium', 'Magnesium', 'Nitrit', 'Nitrat', 'Ammonium',\n",
      "       'Kjeldahl-Stickstoff', 'Gesamt-Stickstoff (filtriert)',\n",
      "       'Gesamt-Stickstoff', 'DRP', 'Gesamt-Phosphor',\n",
      "       'Gesamt-Phosphor (filtriert)', 'Chlorid', 'Kieselsäure', 'Sulfat',\n",
      "       'Natrium', 'Kalium', 'Eisen', 'Chem.Sauerstoffbedarf', 'TOC', 'DOC',\n",
      "       'Schwebstoffe', 'Chrom', 'Zink', 'Kupfer', 'Cadmium', 'Blei', 'Nickel',\n",
      "       'Quecksilber', 'NP', 'NP1EO', 'NP2EO', 'NP3EO', 'Calcium (IC)',\n",
      "       'Rheinkilometer', 'Status Nr.', 'year', 'month', 'day'],\n",
      "      dtype='object')\n"
     ]
    }
   ],
   "source": [
    "data_rhein = pd.read_csv(\"C:/Users/olive/OneDrive/Dokumente/GitHub/Test123/data_rhein_incl_km.csv\")\n",
    "print(data_rhein.keys())\n"
   ]
  },
  {
   "cell_type": "code",
   "execution_count": 118,
   "metadata": {},
   "outputs": [
    {
     "data": {
      "text/plain": [
       "<bound method NDFrame.head of       Unnamed: 0 Kürzel  Status Nr.   Labornummer    Jahr  \\\n",
       "0              0     RE          7.0      16354.0  1975.0   \n",
       "1              1     RE          1.0      16487.0  1975.0   \n",
       "2              2     RE          4.0      16619.0  1975.0   \n",
       "3              3     RE          1.0      16705.0  1975.0   \n",
       "4              4     RE          1.0      16843.0  1975.0   \n",
       "...          ...    ...          ...          ...     ...   \n",
       "3108        3108     SC          NaN       1984.0  1984.0   \n",
       "3109        3109     SC          NaN      39714.0  1984.0   \n",
       "3110        3110     SC          NaN      39746.0  1984.0   \n",
       "3111        3111     SC          NaN      39792.0  1984.0   \n",
       "3112        3112     SC          NaN      39840.0  1984.0   \n",
       "\n",
       "                    Datum  Dauer  Mittl.Abfluss  Abflussumme  Temp.(BAFU)  \\\n",
       "0     1975-05-26 11:15:00  168.0            NaN          NaN          NaN   \n",
       "1     1975-06-02 11:45:00  169.0         683.00     415.5372        13.70   \n",
       "2     1975-06-09 10:40:00  167.0         680.00     408.8160        13.40   \n",
       "3     1975-06-16 11:20:00  169.0         609.00     370.5156        14.90   \n",
       "4     1975-06-23 13:30:00  170.0         735.00     449.8200        14.40   \n",
       "...                   ...    ...            ...          ...          ...   \n",
       "3108  1984-06-11 10:00:00  336.0            NaN          NaN          NaN   \n",
       "3109  1984-06-25 09:25:00  312.0         543.16     610.2300         9.40   \n",
       "3110  1984-07-09 09:05:00  336.0         465.63     562.9500         9.63   \n",
       "3111  1984-07-23 09:40:00  337.0         378.40     458.5000        11.36   \n",
       "3112  1984-08-06 10:05:00  336.0         287.50     348.0100        11.96   \n",
       "\n",
       "      ...  NP  NP1EO  NP2EO  NP3EO  Calcium (IC)  Rheinkilometer  Status Nr.  \\\n",
       "0     ... NaN    NaN    NaN    NaN           NaN            90.0         NaN   \n",
       "1     ... NaN    NaN    NaN    NaN           NaN            90.0         NaN   \n",
       "2     ... NaN    NaN    NaN    NaN           NaN            90.0         NaN   \n",
       "3     ... NaN    NaN    NaN    NaN           NaN            90.0         NaN   \n",
       "4     ... NaN    NaN    NaN    NaN           NaN            90.0         NaN   \n",
       "...   ...  ..    ...    ...    ...           ...             ...         ...   \n",
       "3108  ... NaN    NaN    NaN    NaN           NaN             NaN         3.0   \n",
       "3109  ... NaN    NaN    NaN    NaN           NaN             NaN         NaN   \n",
       "3110  ... NaN    NaN    NaN    NaN           NaN             NaN         NaN   \n",
       "3111  ... NaN    NaN    NaN    NaN           NaN             NaN         NaN   \n",
       "3112  ... NaN    NaN    NaN    NaN           NaN             NaN         NaN   \n",
       "\n",
       "      year  month  day  \n",
       "0     1975      5   26  \n",
       "1     1975      6    2  \n",
       "2     1975      6    9  \n",
       "3     1975      6   16  \n",
       "4     1975      6   23  \n",
       "...    ...    ...  ...  \n",
       "3108  1984      6   11  \n",
       "3109  1984      6   25  \n",
       "3110  1984      7    9  \n",
       "3111  1984      7   23  \n",
       "3112  1984      8    6  \n",
       "\n",
       "[3113 rows x 63 columns]>"
      ]
     },
     "execution_count": 118,
     "metadata": {},
     "output_type": "execute_result"
    }
   ],
   "source": [
    "import pandas as pd\n",
    "\n",
    "data = pd.DataFrame(data_rhein)\n",
    "data.head"
   ]
  },
  {
   "cell_type": "code",
   "execution_count": 119,
   "metadata": {},
   "outputs": [
    {
     "data": {
      "text/plain": [
       "<bound method NDFrame.describe of       Unnamed: 0 Kürzel  Status Nr.   Labornummer    Jahr  \\\n",
       "0              0     RE          7.0      16354.0  1975.0   \n",
       "1              1     RE          1.0      16487.0  1975.0   \n",
       "2              2     RE          4.0      16619.0  1975.0   \n",
       "3              3     RE          1.0      16705.0  1975.0   \n",
       "4              4     RE          1.0      16843.0  1975.0   \n",
       "...          ...    ...          ...          ...     ...   \n",
       "3108        3108     SC          NaN       1984.0  1984.0   \n",
       "3109        3109     SC          NaN      39714.0  1984.0   \n",
       "3110        3110     SC          NaN      39746.0  1984.0   \n",
       "3111        3111     SC          NaN      39792.0  1984.0   \n",
       "3112        3112     SC          NaN      39840.0  1984.0   \n",
       "\n",
       "                    Datum  Dauer  Mittl.Abfluss  Abflussumme  Temp.(BAFU)  \\\n",
       "0     1975-05-26 11:15:00  168.0            NaN          NaN          NaN   \n",
       "1     1975-06-02 11:45:00  169.0         683.00     415.5372        13.70   \n",
       "2     1975-06-09 10:40:00  167.0         680.00     408.8160        13.40   \n",
       "3     1975-06-16 11:20:00  169.0         609.00     370.5156        14.90   \n",
       "4     1975-06-23 13:30:00  170.0         735.00     449.8200        14.40   \n",
       "...                   ...    ...            ...          ...          ...   \n",
       "3108  1984-06-11 10:00:00  336.0            NaN          NaN          NaN   \n",
       "3109  1984-06-25 09:25:00  312.0         543.16     610.2300         9.40   \n",
       "3110  1984-07-09 09:05:00  336.0         465.63     562.9500         9.63   \n",
       "3111  1984-07-23 09:40:00  337.0         378.40     458.5000        11.36   \n",
       "3112  1984-08-06 10:05:00  336.0         287.50     348.0100        11.96   \n",
       "\n",
       "      ...  NP  NP1EO  NP2EO  NP3EO  Calcium (IC)  Rheinkilometer  Status Nr.  \\\n",
       "0     ... NaN    NaN    NaN    NaN           NaN            90.0         NaN   \n",
       "1     ... NaN    NaN    NaN    NaN           NaN            90.0         NaN   \n",
       "2     ... NaN    NaN    NaN    NaN           NaN            90.0         NaN   \n",
       "3     ... NaN    NaN    NaN    NaN           NaN            90.0         NaN   \n",
       "4     ... NaN    NaN    NaN    NaN           NaN            90.0         NaN   \n",
       "...   ...  ..    ...    ...    ...           ...             ...         ...   \n",
       "3108  ... NaN    NaN    NaN    NaN           NaN             NaN         3.0   \n",
       "3109  ... NaN    NaN    NaN    NaN           NaN             NaN         NaN   \n",
       "3110  ... NaN    NaN    NaN    NaN           NaN             NaN         NaN   \n",
       "3111  ... NaN    NaN    NaN    NaN           NaN             NaN         NaN   \n",
       "3112  ... NaN    NaN    NaN    NaN           NaN             NaN         NaN   \n",
       "\n",
       "      year  month  day  \n",
       "0     1975      5   26  \n",
       "1     1975      6    2  \n",
       "2     1975      6    9  \n",
       "3     1975      6   16  \n",
       "4     1975      6   23  \n",
       "...    ...    ...  ...  \n",
       "3108  1984      6   11  \n",
       "3109  1984      6   25  \n",
       "3110  1984      7    9  \n",
       "3111  1984      7   23  \n",
       "3112  1984      8    6  \n",
       "\n",
       "[3113 rows x 63 columns]>"
      ]
     },
     "execution_count": 119,
     "metadata": {},
     "output_type": "execute_result"
    }
   ],
   "source": [
    "data.describe"
   ]
  },
  {
   "cell_type": "code",
   "execution_count": 120,
   "metadata": {},
   "outputs": [],
   "source": [
    "import xgboost as xgb\n",
    "from sklearn.metrics import mean_squared_error\n",
    "import pandas as pd\n",
    "import numpy as np"
   ]
  },
  {
   "cell_type": "code",
   "execution_count": 121,
   "metadata": {},
   "outputs": [],
   "source": [
    "data_rhein[\"DOC\"].replace('', np.nan, inplace=True)\n",
    "data_rhein.dropna(subset=[\"DOC\"], inplace=True)"
   ]
  },
  {
   "cell_type": "code",
   "execution_count": 141,
   "metadata": {},
   "outputs": [],
   "source": [
    "X = data_rhein[[\"Temp.(BAFU)\",\"pH(BAFU)\",\"Leitf. 25°C(BAFU)\",\n",
    "                \"Sauerstoff\",\"Sauerstoffsätt.%\",\"pH (EAWAG)\",\n",
    "                \"Leitf.20°C (EAWAG)\",\"Calcium\",\n",
    "                \"Magnesium\",\"Nitrit\",\"Nitrat\",\n",
    "                \"Kjeldahl-Stickstoff\",\"Gesamt-Stickstoff\",\n",
    "                \"Gesamt-Phosphor\",\"Chlorid\",\"Sulfat\",\n",
    "                \"Kalium\",\n",
    "                \"Schwebstoffe\",\"Kupfer\",\n",
    "                \"Quecksilber\"]]\n",
    "Y = data_rhein[[\"DOC\"]]"
   ]
  },
  {
   "cell_type": "code",
   "execution_count": 142,
   "metadata": {},
   "outputs": [
    {
     "data": {
      "text/plain": [
       "<xgboost.core.DMatrix at 0x28af8e50788>"
      ]
     },
     "execution_count": 142,
     "metadata": {},
     "output_type": "execute_result"
    }
   ],
   "source": [
    "data_dmatrix = xgb.DMatrix(data=X,label=Y)\n",
    "data_dmatrix"
   ]
  },
  {
   "cell_type": "code",
   "execution_count": 143,
   "metadata": {},
   "outputs": [],
   "source": [
    "from sklearn.model_selection import train_test_split\n",
    "\n",
    "X_train, X_test, Y_train, Y_test = train_test_split(X, Y, test_size=0.2, random_state=123)"
   ]
  },
  {
   "cell_type": "code",
   "execution_count": 144,
   "metadata": {},
   "outputs": [],
   "source": [
    "xg_reg = xgb.XGBRegressor(objective ='reg:linear', colsample_bytree = 0.6, learning_rate = 0.4,\n",
    "                max_depth = 5, alpha = 10, n_estimators = 10)"
   ]
  },
  {
   "cell_type": "code",
   "execution_count": 145,
   "metadata": {},
   "outputs": [
    {
     "name": "stdout",
     "output_type": "stream",
     "text": [
      "[09:36:18] WARNING: src/objective/regression_obj.cu:152: reg:linear is now deprecated in favor of reg:squarederror.\n"
     ]
    }
   ],
   "source": [
    "xg_reg.fit(X_train,Y_train)\n",
    "\n",
    "preds = xg_reg.predict(X_test)"
   ]
  },
  {
   "cell_type": "code",
   "execution_count": 147,
   "metadata": {},
   "outputs": [
    {
     "name": "stdout",
     "output_type": "stream",
     "text": [
      "RMSE: 0.474842\n"
     ]
    }
   ],
   "source": [
    "rmse = np.sqrt(mean_squared_error(Y_test, preds))\n",
    "print(\"RMSE: %f\" % (rmse))"
   ]
  },
  {
   "cell_type": "code",
   "execution_count": 148,
   "metadata": {},
   "outputs": [
    {
     "name": "stdout",
     "output_type": "stream",
     "text": [
      "[09:36:27] WARNING: src/objective/regression_obj.cu:152: reg:linear is now deprecated in favor of reg:squarederror.\n",
      "[09:36:27] WARNING: src/objective/regression_obj.cu:152: reg:linear is now deprecated in favor of reg:squarederror.\n",
      "[09:36:27] WARNING: src/objective/regression_obj.cu:152: reg:linear is now deprecated in favor of reg:squarederror.\n"
     ]
    },
    {
     "data": {
      "text/html": [
       "<div>\n",
       "<style scoped>\n",
       "    .dataframe tbody tr th:only-of-type {\n",
       "        vertical-align: middle;\n",
       "    }\n",
       "\n",
       "    .dataframe tbody tr th {\n",
       "        vertical-align: top;\n",
       "    }\n",
       "\n",
       "    .dataframe thead th {\n",
       "        text-align: right;\n",
       "    }\n",
       "</style>\n",
       "<table border=\"1\" class=\"dataframe\">\n",
       "  <thead>\n",
       "    <tr style=\"text-align: right;\">\n",
       "      <th></th>\n",
       "      <th>train-rmse-mean</th>\n",
       "      <th>train-rmse-std</th>\n",
       "      <th>test-rmse-mean</th>\n",
       "      <th>test-rmse-std</th>\n",
       "    </tr>\n",
       "  </thead>\n",
       "  <tbody>\n",
       "    <tr>\n",
       "      <td>0</td>\n",
       "      <td>0.858689</td>\n",
       "      <td>0.014069</td>\n",
       "      <td>0.865861</td>\n",
       "      <td>0.038567</td>\n",
       "    </tr>\n",
       "    <tr>\n",
       "      <td>1</td>\n",
       "      <td>0.640573</td>\n",
       "      <td>0.012952</td>\n",
       "      <td>0.649340</td>\n",
       "      <td>0.044619</td>\n",
       "    </tr>\n",
       "    <tr>\n",
       "      <td>2</td>\n",
       "      <td>0.533033</td>\n",
       "      <td>0.013298</td>\n",
       "      <td>0.545941</td>\n",
       "      <td>0.043120</td>\n",
       "    </tr>\n",
       "    <tr>\n",
       "      <td>3</td>\n",
       "      <td>0.479952</td>\n",
       "      <td>0.013622</td>\n",
       "      <td>0.497675</td>\n",
       "      <td>0.038541</td>\n",
       "    </tr>\n",
       "    <tr>\n",
       "      <td>4</td>\n",
       "      <td>0.453340</td>\n",
       "      <td>0.011357</td>\n",
       "      <td>0.476237</td>\n",
       "      <td>0.035959</td>\n",
       "    </tr>\n",
       "    <tr>\n",
       "      <td>5</td>\n",
       "      <td>0.438427</td>\n",
       "      <td>0.010941</td>\n",
       "      <td>0.465355</td>\n",
       "      <td>0.032974</td>\n",
       "    </tr>\n",
       "    <tr>\n",
       "      <td>6</td>\n",
       "      <td>0.428082</td>\n",
       "      <td>0.011424</td>\n",
       "      <td>0.457983</td>\n",
       "      <td>0.029434</td>\n",
       "    </tr>\n",
       "    <tr>\n",
       "      <td>7</td>\n",
       "      <td>0.419669</td>\n",
       "      <td>0.010777</td>\n",
       "      <td>0.454456</td>\n",
       "      <td>0.028141</td>\n",
       "    </tr>\n",
       "    <tr>\n",
       "      <td>8</td>\n",
       "      <td>0.411185</td>\n",
       "      <td>0.011327</td>\n",
       "      <td>0.449953</td>\n",
       "      <td>0.027268</td>\n",
       "    </tr>\n",
       "    <tr>\n",
       "      <td>9</td>\n",
       "      <td>0.405143</td>\n",
       "      <td>0.011249</td>\n",
       "      <td>0.447304</td>\n",
       "      <td>0.026584</td>\n",
       "    </tr>\n",
       "    <tr>\n",
       "      <td>10</td>\n",
       "      <td>0.400068</td>\n",
       "      <td>0.011042</td>\n",
       "      <td>0.445659</td>\n",
       "      <td>0.026133</td>\n",
       "    </tr>\n",
       "    <tr>\n",
       "      <td>11</td>\n",
       "      <td>0.395480</td>\n",
       "      <td>0.011334</td>\n",
       "      <td>0.443875</td>\n",
       "      <td>0.025685</td>\n",
       "    </tr>\n",
       "    <tr>\n",
       "      <td>12</td>\n",
       "      <td>0.391399</td>\n",
       "      <td>0.010553</td>\n",
       "      <td>0.443079</td>\n",
       "      <td>0.024242</td>\n",
       "    </tr>\n",
       "    <tr>\n",
       "      <td>13</td>\n",
       "      <td>0.387673</td>\n",
       "      <td>0.010155</td>\n",
       "      <td>0.442259</td>\n",
       "      <td>0.024279</td>\n",
       "    </tr>\n",
       "    <tr>\n",
       "      <td>14</td>\n",
       "      <td>0.383754</td>\n",
       "      <td>0.009725</td>\n",
       "      <td>0.441080</td>\n",
       "      <td>0.023992</td>\n",
       "    </tr>\n",
       "    <tr>\n",
       "      <td>15</td>\n",
       "      <td>0.380111</td>\n",
       "      <td>0.009466</td>\n",
       "      <td>0.439872</td>\n",
       "      <td>0.023402</td>\n",
       "    </tr>\n",
       "    <tr>\n",
       "      <td>16</td>\n",
       "      <td>0.377110</td>\n",
       "      <td>0.009920</td>\n",
       "      <td>0.438714</td>\n",
       "      <td>0.023491</td>\n",
       "    </tr>\n",
       "    <tr>\n",
       "      <td>17</td>\n",
       "      <td>0.374237</td>\n",
       "      <td>0.009033</td>\n",
       "      <td>0.438491</td>\n",
       "      <td>0.023834</td>\n",
       "    </tr>\n",
       "    <tr>\n",
       "      <td>18</td>\n",
       "      <td>0.372055</td>\n",
       "      <td>0.009207</td>\n",
       "      <td>0.437701</td>\n",
       "      <td>0.023633</td>\n",
       "    </tr>\n",
       "    <tr>\n",
       "      <td>19</td>\n",
       "      <td>0.369931</td>\n",
       "      <td>0.008747</td>\n",
       "      <td>0.437589</td>\n",
       "      <td>0.023123</td>\n",
       "    </tr>\n",
       "    <tr>\n",
       "      <td>20</td>\n",
       "      <td>0.367626</td>\n",
       "      <td>0.007796</td>\n",
       "      <td>0.437601</td>\n",
       "      <td>0.023397</td>\n",
       "    </tr>\n",
       "    <tr>\n",
       "      <td>21</td>\n",
       "      <td>0.365209</td>\n",
       "      <td>0.008148</td>\n",
       "      <td>0.437130</td>\n",
       "      <td>0.023198</td>\n",
       "    </tr>\n",
       "    <tr>\n",
       "      <td>22</td>\n",
       "      <td>0.362794</td>\n",
       "      <td>0.007911</td>\n",
       "      <td>0.436178</td>\n",
       "      <td>0.023219</td>\n",
       "    </tr>\n",
       "    <tr>\n",
       "      <td>23</td>\n",
       "      <td>0.361183</td>\n",
       "      <td>0.007662</td>\n",
       "      <td>0.436193</td>\n",
       "      <td>0.022755</td>\n",
       "    </tr>\n",
       "    <tr>\n",
       "      <td>24</td>\n",
       "      <td>0.359598</td>\n",
       "      <td>0.007363</td>\n",
       "      <td>0.436095</td>\n",
       "      <td>0.022398</td>\n",
       "    </tr>\n",
       "    <tr>\n",
       "      <td>25</td>\n",
       "      <td>0.357802</td>\n",
       "      <td>0.006966</td>\n",
       "      <td>0.436272</td>\n",
       "      <td>0.022018</td>\n",
       "    </tr>\n",
       "    <tr>\n",
       "      <td>26</td>\n",
       "      <td>0.355939</td>\n",
       "      <td>0.007165</td>\n",
       "      <td>0.435617</td>\n",
       "      <td>0.022178</td>\n",
       "    </tr>\n",
       "    <tr>\n",
       "      <td>27</td>\n",
       "      <td>0.354521</td>\n",
       "      <td>0.007008</td>\n",
       "      <td>0.435343</td>\n",
       "      <td>0.022217</td>\n",
       "    </tr>\n",
       "    <tr>\n",
       "      <td>28</td>\n",
       "      <td>0.353089</td>\n",
       "      <td>0.007170</td>\n",
       "      <td>0.435600</td>\n",
       "      <td>0.022421</td>\n",
       "    </tr>\n",
       "    <tr>\n",
       "      <td>29</td>\n",
       "      <td>0.351494</td>\n",
       "      <td>0.007347</td>\n",
       "      <td>0.435614</td>\n",
       "      <td>0.022471</td>\n",
       "    </tr>\n",
       "    <tr>\n",
       "      <td>30</td>\n",
       "      <td>0.350382</td>\n",
       "      <td>0.007505</td>\n",
       "      <td>0.435176</td>\n",
       "      <td>0.022686</td>\n",
       "    </tr>\n",
       "    <tr>\n",
       "      <td>31</td>\n",
       "      <td>0.349531</td>\n",
       "      <td>0.007962</td>\n",
       "      <td>0.435140</td>\n",
       "      <td>0.022526</td>\n",
       "    </tr>\n",
       "    <tr>\n",
       "      <td>32</td>\n",
       "      <td>0.348545</td>\n",
       "      <td>0.007841</td>\n",
       "      <td>0.435213</td>\n",
       "      <td>0.022634</td>\n",
       "    </tr>\n",
       "    <tr>\n",
       "      <td>33</td>\n",
       "      <td>0.347927</td>\n",
       "      <td>0.008567</td>\n",
       "      <td>0.435271</td>\n",
       "      <td>0.022698</td>\n",
       "    </tr>\n",
       "    <tr>\n",
       "      <td>34</td>\n",
       "      <td>0.347623</td>\n",
       "      <td>0.008933</td>\n",
       "      <td>0.435266</td>\n",
       "      <td>0.022693</td>\n",
       "    </tr>\n",
       "    <tr>\n",
       "      <td>35</td>\n",
       "      <td>0.347239</td>\n",
       "      <td>0.009405</td>\n",
       "      <td>0.435152</td>\n",
       "      <td>0.022566</td>\n",
       "    </tr>\n",
       "    <tr>\n",
       "      <td>36</td>\n",
       "      <td>0.346926</td>\n",
       "      <td>0.009795</td>\n",
       "      <td>0.435097</td>\n",
       "      <td>0.022504</td>\n",
       "    </tr>\n",
       "  </tbody>\n",
       "</table>\n",
       "</div>"
      ],
      "text/plain": [
       "    train-rmse-mean  train-rmse-std  test-rmse-mean  test-rmse-std\n",
       "0          0.858689        0.014069        0.865861       0.038567\n",
       "1          0.640573        0.012952        0.649340       0.044619\n",
       "2          0.533033        0.013298        0.545941       0.043120\n",
       "3          0.479952        0.013622        0.497675       0.038541\n",
       "4          0.453340        0.011357        0.476237       0.035959\n",
       "5          0.438427        0.010941        0.465355       0.032974\n",
       "6          0.428082        0.011424        0.457983       0.029434\n",
       "7          0.419669        0.010777        0.454456       0.028141\n",
       "8          0.411185        0.011327        0.449953       0.027268\n",
       "9          0.405143        0.011249        0.447304       0.026584\n",
       "10         0.400068        0.011042        0.445659       0.026133\n",
       "11         0.395480        0.011334        0.443875       0.025685\n",
       "12         0.391399        0.010553        0.443079       0.024242\n",
       "13         0.387673        0.010155        0.442259       0.024279\n",
       "14         0.383754        0.009725        0.441080       0.023992\n",
       "15         0.380111        0.009466        0.439872       0.023402\n",
       "16         0.377110        0.009920        0.438714       0.023491\n",
       "17         0.374237        0.009033        0.438491       0.023834\n",
       "18         0.372055        0.009207        0.437701       0.023633\n",
       "19         0.369931        0.008747        0.437589       0.023123\n",
       "20         0.367626        0.007796        0.437601       0.023397\n",
       "21         0.365209        0.008148        0.437130       0.023198\n",
       "22         0.362794        0.007911        0.436178       0.023219\n",
       "23         0.361183        0.007662        0.436193       0.022755\n",
       "24         0.359598        0.007363        0.436095       0.022398\n",
       "25         0.357802        0.006966        0.436272       0.022018\n",
       "26         0.355939        0.007165        0.435617       0.022178\n",
       "27         0.354521        0.007008        0.435343       0.022217\n",
       "28         0.353089        0.007170        0.435600       0.022421\n",
       "29         0.351494        0.007347        0.435614       0.022471\n",
       "30         0.350382        0.007505        0.435176       0.022686\n",
       "31         0.349531        0.007962        0.435140       0.022526\n",
       "32         0.348545        0.007841        0.435213       0.022634\n",
       "33         0.347927        0.008567        0.435271       0.022698\n",
       "34         0.347623        0.008933        0.435266       0.022693\n",
       "35         0.347239        0.009405        0.435152       0.022566\n",
       "36         0.346926        0.009795        0.435097       0.022504"
      ]
     },
     "execution_count": 148,
     "metadata": {},
     "output_type": "execute_result"
    }
   ],
   "source": [
    "params = {\"objective\":\"reg:linear\",'colsample_bytree': 0.6,'learning_rate': 0.4,\n",
    "                'max_depth': 5, 'alpha': 10}\n",
    "\n",
    "cv_results = xgb.cv(dtrain=data_dmatrix, params=params, nfold=3,\n",
    "                    num_boost_round=50,early_stopping_rounds=10,metrics=\"rmse\", as_pandas=True, seed=123)\n",
    "cv_results"
   ]
  },
  {
   "cell_type": "code",
   "execution_count": 149,
   "metadata": {},
   "outputs": [
    {
     "ename": "NameError",
     "evalue": "name 'plt' is not defined",
     "output_type": "error",
     "traceback": [
      "\u001b[1;31m---------------------------------------------------------------------------\u001b[0m",
      "\u001b[1;31mNameError\u001b[0m                                 Traceback (most recent call last)",
      "\u001b[1;32m<ipython-input-149-bd3eb0662ec6>\u001b[0m in \u001b[0;36m<module>\u001b[1;34m\u001b[0m\n\u001b[0;32m      1\u001b[0m \u001b[0mxgb\u001b[0m\u001b[1;33m.\u001b[0m\u001b[0mplot_importance\u001b[0m\u001b[1;33m(\u001b[0m\u001b[0mxg_reg\u001b[0m\u001b[1;33m)\u001b[0m\u001b[1;33m\u001b[0m\u001b[1;33m\u001b[0m\u001b[0m\n\u001b[1;32m----> 2\u001b[1;33m \u001b[0mplt\u001b[0m\u001b[1;33m.\u001b[0m\u001b[0mrcParams\u001b[0m\u001b[1;33m[\u001b[0m\u001b[1;34m'figure.figsize'\u001b[0m\u001b[1;33m]\u001b[0m \u001b[1;33m=\u001b[0m \u001b[1;33m[\u001b[0m\u001b[1;36m40\u001b[0m\u001b[1;33m,\u001b[0m \u001b[1;36m40\u001b[0m\u001b[1;33m]\u001b[0m\u001b[1;33m\u001b[0m\u001b[1;33m\u001b[0m\u001b[0m\n\u001b[0m\u001b[0;32m      3\u001b[0m \u001b[0mplt\u001b[0m\u001b[1;33m.\u001b[0m\u001b[0mshow\u001b[0m\u001b[1;33m(\u001b[0m\u001b[1;33m)\u001b[0m\u001b[1;33m\u001b[0m\u001b[1;33m\u001b[0m\u001b[0m\n",
      "\u001b[1;31mNameError\u001b[0m: name 'plt' is not defined"
     ]
    },
    {
     "data": {
      "image/png": "[encoded data removed]",
      "text/plain": [
       "<Figure size 432x288 with 1 Axes>"
      ]
     },
     "metadata": {
      "needs_background": "light"
     },
     "output_type": "display_data"
    }
   ],
   "source": [
    "xgb.plot_importance(xg_reg)\n",
    "plt.rcParams['figure.figsize'] = [40, 40]\n",
    "plt.show()"
   ]
  },
  {
   "cell_type": "code",
   "execution_count": 150,
   "metadata": {},
   "outputs": [
    {
     "data": {
      "text/plain": [
       "XGBRegressor(alpha=10, base_score=0.5, booster='gbtree', colsample_bylevel=1,\n",
       "             colsample_bynode=1, colsample_bytree=0.6, gamma=0,\n",
       "             importance_type='gain', learning_rate=0.4, max_delta_step=0,\n",
       "             max_depth=5, min_child_weight=1, missing=None, n_estimators=10,\n",
       "             n_jobs=1, nthread=None, objective='reg:linear', random_state=0,\n",
       "             reg_alpha=0, reg_lambda=1, scale_pos_weight=1, seed=None,\n",
       "             silent=None, subsample=1, verbosity=1)"
      ]
     },
     "execution_count": 150,
     "metadata": {},
     "output_type": "execute_result"
    }
   ],
   "source": [
    "xg_reg"
   ]
  },
  {
   "cell_type": "code",
   "execution_count": 152,
   "metadata": {},
   "outputs": [
    {
     "name": "stdout",
     "output_type": "stream",
     "text": [
      "Fitting 4 folds for each of 5 candidates, totalling 20 fits\n",
      "[09:58:08] WARNING: src/objective/regression_obj.cu:152: reg:linear is now deprecated in favor of reg:squarederror.\n"
     ]
    },
    {
     "name": "stderr",
     "output_type": "stream",
     "text": [
      "[Parallel(n_jobs=1)]: Using backend SequentialBackend with 1 concurrent workers.\n"
     ]
    },
    {
     "name": "stdout",
     "output_type": "stream",
     "text": [
      "[09:58:09] WARNING: src/objective/regression_obj.cu:152: reg:linear is now deprecated in favor of reg:squarederror.\n",
      "[09:58:09] WARNING: src/objective/regression_obj.cu:152: reg:linear is now deprecated in favor of reg:squarederror.\n",
      "[09:58:10] WARNING: src/objective/regression_obj.cu:152: reg:linear is now deprecated in favor of reg:squarederror.\n",
      "[09:58:11] WARNING: src/objective/regression_obj.cu:152: reg:linear is now deprecated in favor of reg:squarederror.\n",
      "[09:58:11] WARNING: src/objective/regression_obj.cu:152: reg:linear is now deprecated in favor of reg:squarederror.\n",
      "[09:58:11] WARNING: src/objective/regression_obj.cu:152: reg:linear is now deprecated in favor of reg:squarederror.\n",
      "[09:58:11] WARNING: src/objective/regression_obj.cu:152: reg:linear is now deprecated in favor of reg:squarederror.\n",
      "[09:58:12] WARNING: src/objective/regression_obj.cu:152: reg:linear is now deprecated in favor of reg:squarederror.\n",
      "[09:58:12] WARNING: src/objective/regression_obj.cu:152: reg:linear is now deprecated in favor of reg:squarederror.\n",
      "[09:58:12] WARNING: src/objective/regression_obj.cu:152: reg:linear is now deprecated in favor of reg:squarederror.\n",
      "[09:58:13] WARNING: src/objective/regression_obj.cu:152: reg:linear is now deprecated in favor of reg:squarederror.\n",
      "[09:58:13] WARNING: src/objective/regression_obj.cu:152: reg:linear is now deprecated in favor of reg:squarederror.\n",
      "[09:58:14] WARNING: src/objective/regression_obj.cu:152: reg:linear is now deprecated in favor of reg:squarederror.\n",
      "[09:58:14] WARNING: src/objective/regression_obj.cu:152: reg:linear is now deprecated in favor of reg:squarederror.\n",
      "[09:58:15] WARNING: src/objective/regression_obj.cu:152: reg:linear is now deprecated in favor of reg:squarederror.\n",
      "[09:58:16] WARNING: src/objective/regression_obj.cu:152: reg:linear is now deprecated in favor of reg:squarederror.\n",
      "[09:58:17] WARNING: src/objective/regression_obj.cu:152: reg:linear is now deprecated in favor of reg:squarederror.\n",
      "[09:58:17] WARNING: src/objective/regression_obj.cu:152: reg:linear is now deprecated in favor of reg:squarederror.\n",
      "[09:58:18] WARNING: src/objective/regression_obj.cu:152: reg:linear is now deprecated in favor of reg:squarederror.\n"
     ]
    },
    {
     "name": "stderr",
     "output_type": "stream",
     "text": [
      "[Parallel(n_jobs=1)]: Done  20 out of  20 | elapsed:   10.5s finished\n"
     ]
    },
    {
     "name": "stdout",
     "output_type": "stream",
     "text": [
      "[09:58:18] WARNING: src/objective/regression_obj.cu:152: reg:linear is now deprecated in favor of reg:squarederror.\n",
      "Best parameters found:  {'n_estimators': 25, 'max_depth': 3}\n",
      "Lowest RMSE found:  0.49259679495142616\n"
     ]
    }
   ],
   "source": [
    "from sklearn.model_selection import RandomizedSearchCV\n",
    "\n",
    "# Create the parameter grid: gbm_param_grid \n",
    "gbm_param_grid = {\n",
    "    'n_estimators': [25],\n",
    "    'max_depth': range(2, 12)\n",
    "}\n",
    "\n",
    "# Instantiate the regressor: gbm\n",
    "gbm = xgb.XGBRegressor(n_estimators=10)\n",
    "\n",
    "# Perform random search: grid_mse\n",
    "randomized_mse = RandomizedSearchCV(estimator=gbm, param_distributions=gbm_param_grid,\n",
    "                                    n_iter=5, scoring='neg_mean_squared_error', cv=4, verbose=1)\n",
    "randomized_mse.fit(X, Y)\n",
    "preds1 = xg_reg.predict(X_test)\n",
    "\n",
    "# Print the best parameters and lowest RMSE\n",
    "print(\"Best parameters found: \",randomized_mse.best_params_)\n",
    "print(\"Lowest RMSE found: \", np.sqrt(np.abs(randomized_mse.best_score_)))"
   ]
  },
  {
   "cell_type": "code",
   "execution_count": 156,
   "metadata": {},
   "outputs": [
    {
     "ename": "ModuleNotFoundError",
     "evalue": "No module named 'fastai'",
     "output_type": "error",
     "traceback": [
      "\u001b[1;31m---------------------------------------------------------------------------\u001b[0m",
      "\u001b[1;31mModuleNotFoundError\u001b[0m                       Traceback (most recent call last)",
      "\u001b[1;32m<ipython-input-156-6a02f36a70e7>\u001b[0m in \u001b[0;36m<module>\u001b[1;34m\u001b[0m\n\u001b[1;32m----> 1\u001b[1;33m \u001b[1;32mfrom\u001b[0m \u001b[0mfastai\u001b[0m \u001b[1;32mimport\u001b[0m \u001b[1;33m*\u001b[0m\u001b[1;33m\u001b[0m\u001b[1;33m\u001b[0m\u001b[0m\n\u001b[0m\u001b[0;32m      2\u001b[0m \u001b[1;32mfrom\u001b[0m \u001b[0mfastai\u001b[0m\u001b[1;33m.\u001b[0m\u001b[0mtabular\u001b[0m \u001b[1;32mimport\u001b[0m \u001b[1;33m*\u001b[0m\u001b[1;33m\u001b[0m\u001b[1;33m\u001b[0m\u001b[0m\n\u001b[0;32m      3\u001b[0m \u001b[0mtabular_learner\u001b[0m\u001b[1;33m.\u001b[0m\u001b[0mdocs\u001b[0m\u001b[1;33m\u001b[0m\u001b[1;33m\u001b[0m\u001b[0m\n",
      "\u001b[1;31mModuleNotFoundError\u001b[0m: No module named 'fastai'"
     ]
    }
   ],
   "source": [
    "from fastai import *\n",
    "from fastai.tabular import *\n",
    "tabular_learner.docs"
   ]
  }
 ],
 "metadata": {
  "kernelspec": {
   "display_name": "Python 3",
   "language": "python",
   "name": "python3"
  },
  "language_info": {
   "codemirror_mode": {
    "name": "ipython",
    "version": 3
   },
   "file_extension": ".py",
   "mimetype": "text/x-python",
   "name": "python",
   "nbconvert_exporter": "python",
   "pygments_lexer": "ipython3",
   "version": "3.7.4"
  }
 },
 "nbformat": 4,
 "nbformat_minor": 2
}
