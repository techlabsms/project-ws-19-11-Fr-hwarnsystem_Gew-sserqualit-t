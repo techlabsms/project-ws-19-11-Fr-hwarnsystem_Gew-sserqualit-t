{
  "nbformat": 4,
  "nbformat_minor": 0,
  "metadata": {
    "kernelspec": {
      "display_name": "Python 3",
      "language": "python",
      "name": "python3"
    },
    "language_info": {
      "codemirror_mode": {
        "name": "ipython",
        "version": 3
      },
      "file_extension": ".py",
      "mimetype": "text/x-python",
      "name": "python",
      "nbconvert_exporter": "python",
      "pygments_lexer": "ipython3",
      "version": "3.7.4"
    },
    "colab": {
      "name": "XGBoost_DO_Prediction_Rheindata.ipynb",
      "provenance": []
    }
  },
  "cells": [
    {
      "cell_type": "markdown",
      "metadata": {
        "id": "XZEH_ZzkkLDw",
        "colab_type": "text"
      },
      "source": [
        "#**Results:**"
      ]
    },
    {
      "cell_type": "code",
      "metadata": {
        "id": "uTih_5ekkGSi",
        "colab_type": "code",
        "colab": {
          "base_uri": "https://localhost:8080/",
          "height": 174
        },
        "outputId": "ab4eaad8-0dca-4cc4-ad06-32dfbc4966a4"
      },
      "source": [
        "import pandas as pd\n",
        "results_ = {'Approach': ['XGBoost','Fastai','Catboost','LightGBM'],\n",
        "        'RSME': [0.435097,0.399569,0.2522909698,0.4238094066114889]\n",
        "        }\n",
        "df = pd.DataFrame(results_, columns = ['Approach', 'RSME'])\n",
        "df= df.sort_values(by='RSME', ascending=True)\n",
        "df.head(8)"
      ],
      "execution_count": 1,
      "outputs": [
        {
          "output_type": "execute_result",
          "data": {
            "text/html": [
              "<div>\n",
              "<style scoped>\n",
              "    .dataframe tbody tr th:only-of-type {\n",
              "        vertical-align: middle;\n",
              "    }\n",
              "\n",
              "    .dataframe tbody tr th {\n",
              "        vertical-align: top;\n",
              "    }\n",
              "\n",
              "    .dataframe thead th {\n",
              "        text-align: right;\n",
              "    }\n",
              "</style>\n",
              "<table border=\"1\" class=\"dataframe\">\n",
              "  <thead>\n",
              "    <tr style=\"text-align: right;\">\n",
              "      <th></th>\n",
              "      <th>Approach</th>\n",
              "      <th>RSME</th>\n",
              "    </tr>\n",
              "  </thead>\n",
              "  <tbody>\n",
              "    <tr>\n",
              "      <th>2</th>\n",
              "      <td>Catboost</td>\n",
              "      <td>0.252291</td>\n",
              "    </tr>\n",
              "    <tr>\n",
              "      <th>1</th>\n",
              "      <td>Fastai</td>\n",
              "      <td>0.399569</td>\n",
              "    </tr>\n",
              "    <tr>\n",
              "      <th>3</th>\n",
              "      <td>LightGBM</td>\n",
              "      <td>0.423809</td>\n",
              "    </tr>\n",
              "    <tr>\n",
              "      <th>0</th>\n",
              "      <td>XGBoost</td>\n",
              "      <td>0.435097</td>\n",
              "    </tr>\n",
              "  </tbody>\n",
              "</table>\n",
              "</div>"
            ],
            "text/plain": [
              "   Approach      RSME\n",
              "2  Catboost  0.252291\n",
              "1    Fastai  0.399569\n",
              "3  LightGBM  0.423809\n",
              "0   XGBoost  0.435097"
            ]
          },
          "metadata": {
            "tags": []
          },
          "execution_count": 1
        }
      ]
    },
    {
      "cell_type": "markdown",
      "metadata": {
        "id": "jsiKVYKukV_J",
        "colab_type": "text"
      },
      "source": [
        "#**XGBoost-Library:**"
      ]
    },
    {
      "cell_type": "code",
      "metadata": {
        "id": "YJ1RK8q0kfO6",
        "colab_type": "code",
        "colab": {
          "base_uri": "https://localhost:8080/",
          "height": 130
        },
        "outputId": "7efc0916-e987-4bf8-96e5-96c096e01831"
      },
      "source": [
        "from google.colab import drive\n",
        "drive.mount('/content/drive/')"
      ],
      "execution_count": 2,
      "outputs": [
        {
          "output_type": "stream",
          "text": [
            "Go to this URL in a browser: https://accounts.google.com/o/oauth2/auth?client_id=947318989803-6bn6qk8qdgf4n4g3pfee6491hc0brc4i.apps.googleusercontent.com&redirect_uri=urn%3aietf%3awg%3aoauth%3a2.0%3aoob&response_type=code&scope=email%20https%3a%2f%2fwww.googleapis.com%2fauth%2fdocs.test%20https%3a%2f%2fwww.googleapis.com%2fauth%2fdrive%20https%3a%2f%2fwww.googleapis.com%2fauth%2fdrive.photos.readonly%20https%3a%2f%2fwww.googleapis.com%2fauth%2fpeopleapi.readonly\n",
            "\n",
            "Enter your authorization code:\n",
            "··········\n",
            "Mounted at /content/drive/\n"
          ],
          "name": "stdout"
        }
      ]
    },
    {
      "cell_type": "code",
      "metadata": {
        "id": "OHGIpGWakp_x",
        "colab_type": "code",
        "colab": {}
      },
      "source": [
        "import xgboost as xgb\n",
        "from sklearn.metrics import mean_squared_error\n",
        "import pandas as pd\n",
        "import numpy as np"
      ],
      "execution_count": 0,
      "outputs": []
    },
    {
      "cell_type": "markdown",
      "metadata": {
        "id": "KNJBn7dAktmS",
        "colab_type": "text"
      },
      "source": [
        "# Data Preperation"
      ]
    },
    {
      "cell_type": "markdown",
      "metadata": {
        "id": "K-nMkv54kurW",
        "colab_type": "text"
      },
      "source": [
        "preprocessing data"
      ]
    },
    {
      "cell_type": "code",
      "metadata": {
        "id": "NMjBTPaLk2Gq",
        "colab_type": "code",
        "colab": {
          "base_uri": "https://localhost:8080/",
          "height": 243
        },
        "outputId": "994c541c-ccc3-419d-8774-9d702569db8e"
      },
      "source": [
        "rheindata = pd.read_csv(\"/content/drive/My Drive/fastai/data_rhein_incl_km(1).csv\")\n",
        "rheindata[\"DOC\"].replace('', np.nan, inplace=True)\n",
        "rheindata.dropna(subset=[\"DOC\"], inplace=True)\n",
        "rheindata = rheindata[[\"Kürzel\",\"Date\",\"year\",\"month\",\"day\",\"Temp.(BAFU)\",\"pH(BAFU)\",\"Leitf. 25°C(BAFU)\",\"Sauerstoff\",\"Sauerstoffsätt.%\",\"pH (EAWAG)\",\"Leitf.20°C (EAWAG)\",\"Alkalinität\",\"Calcium\",\"Magnesium\",\"Nitrit\",\"Nitrat\",\"Ammonium\",\"Kjeldahl-Stickstoff\",\"Gesamt-Stickstoff\",\"DRP\",\"Gesamt-Phosphor\",\"Chlorid\",\"Kieselsäure\",\"Sulfat\",\"Natrium\",\"Kalium\",\"Eisen\",\"Chem.Sauerstoffbedarf\",\"TOC\",\"DOC\",\"Schwebstoffe\",\"Chrom\",\"Zink\",\"Kupfer\",\"Blei\",\"Cadmium\",\"Nickel\",\"Quecksilber\"]]\n",
        "rheindata.head()"
      ],
      "execution_count": 4,
      "outputs": [
        {
          "output_type": "execute_result",
          "data": {
            "text/html": [
              "<div>\n",
              "<style scoped>\n",
              "    .dataframe tbody tr th:only-of-type {\n",
              "        vertical-align: middle;\n",
              "    }\n",
              "\n",
              "    .dataframe tbody tr th {\n",
              "        vertical-align: top;\n",
              "    }\n",
              "\n",
              "    .dataframe thead th {\n",
              "        text-align: right;\n",
              "    }\n",
              "</style>\n",
              "<table border=\"1\" class=\"dataframe\">\n",
              "  <thead>\n",
              "    <tr style=\"text-align: right;\">\n",
              "      <th></th>\n",
              "      <th>Kürzel</th>\n",
              "      <th>Date</th>\n",
              "      <th>year</th>\n",
              "      <th>month</th>\n",
              "      <th>day</th>\n",
              "      <th>Temp.(BAFU)</th>\n",
              "      <th>pH(BAFU)</th>\n",
              "      <th>Leitf. 25°C(BAFU)</th>\n",
              "      <th>Sauerstoff</th>\n",
              "      <th>Sauerstoffsätt.%</th>\n",
              "      <th>pH (EAWAG)</th>\n",
              "      <th>Leitf.20°C (EAWAG)</th>\n",
              "      <th>Alkalinität</th>\n",
              "      <th>Calcium</th>\n",
              "      <th>Magnesium</th>\n",
              "      <th>Nitrit</th>\n",
              "      <th>Nitrat</th>\n",
              "      <th>Ammonium</th>\n",
              "      <th>Kjeldahl-Stickstoff</th>\n",
              "      <th>Gesamt-Stickstoff</th>\n",
              "      <th>DRP</th>\n",
              "      <th>Gesamt-Phosphor</th>\n",
              "      <th>Chlorid</th>\n",
              "      <th>Kieselsäure</th>\n",
              "      <th>Sulfat</th>\n",
              "      <th>Natrium</th>\n",
              "      <th>Kalium</th>\n",
              "      <th>Eisen</th>\n",
              "      <th>Chem.Sauerstoffbedarf</th>\n",
              "      <th>TOC</th>\n",
              "      <th>DOC</th>\n",
              "      <th>Schwebstoffe</th>\n",
              "      <th>Chrom</th>\n",
              "      <th>Zink</th>\n",
              "      <th>Kupfer</th>\n",
              "      <th>Blei</th>\n",
              "      <th>Cadmium</th>\n",
              "      <th>Nickel</th>\n",
              "      <th>Quecksilber</th>\n",
              "    </tr>\n",
              "  </thead>\n",
              "  <tbody>\n",
              "    <tr>\n",
              "      <th>0</th>\n",
              "      <td>RE</td>\n",
              "      <td>26.05.1975</td>\n",
              "      <td>1975</td>\n",
              "      <td>5</td>\n",
              "      <td>26</td>\n",
              "      <td>NaN</td>\n",
              "      <td>NaN</td>\n",
              "      <td>NaN</td>\n",
              "      <td>NaN</td>\n",
              "      <td>NaN</td>\n",
              "      <td>8.0</td>\n",
              "      <td>270.0</td>\n",
              "      <td>2.32</td>\n",
              "      <td>48.0960</td>\n",
              "      <td>6.3232</td>\n",
              "      <td>0.02</td>\n",
              "      <td>0.4</td>\n",
              "      <td>0.05</td>\n",
              "      <td>NaN</td>\n",
              "      <td>NaN</td>\n",
              "      <td>0.04</td>\n",
              "      <td>0.09</td>\n",
              "      <td>4.4</td>\n",
              "      <td>3.0</td>\n",
              "      <td>29.0</td>\n",
              "      <td>4.8</td>\n",
              "      <td>1.4</td>\n",
              "      <td>0.04</td>\n",
              "      <td>NaN</td>\n",
              "      <td>2.6</td>\n",
              "      <td>1.4</td>\n",
              "      <td>11.0</td>\n",
              "      <td>0.5</td>\n",
              "      <td>5.0</td>\n",
              "      <td>0.5</td>\n",
              "      <td>0.5</td>\n",
              "      <td>0.1</td>\n",
              "      <td>NaN</td>\n",
              "      <td>NaN</td>\n",
              "    </tr>\n",
              "    <tr>\n",
              "      <th>1</th>\n",
              "      <td>RE</td>\n",
              "      <td>02.06.1975</td>\n",
              "      <td>1975</td>\n",
              "      <td>6</td>\n",
              "      <td>2</td>\n",
              "      <td>13.7</td>\n",
              "      <td>NaN</td>\n",
              "      <td>NaN</td>\n",
              "      <td>NaN</td>\n",
              "      <td>NaN</td>\n",
              "      <td>8.2</td>\n",
              "      <td>280.0</td>\n",
              "      <td>2.32</td>\n",
              "      <td>50.5008</td>\n",
              "      <td>5.8368</td>\n",
              "      <td>0.03</td>\n",
              "      <td>0.7</td>\n",
              "      <td>0.03</td>\n",
              "      <td>NaN</td>\n",
              "      <td>NaN</td>\n",
              "      <td>0.07</td>\n",
              "      <td>0.18</td>\n",
              "      <td>5.6</td>\n",
              "      <td>3.0</td>\n",
              "      <td>30.0</td>\n",
              "      <td>4.7</td>\n",
              "      <td>1.3</td>\n",
              "      <td>0.09</td>\n",
              "      <td>NaN</td>\n",
              "      <td>2.2</td>\n",
              "      <td>1.8</td>\n",
              "      <td>6.5</td>\n",
              "      <td>0.5</td>\n",
              "      <td>10.0</td>\n",
              "      <td>2.0</td>\n",
              "      <td>1.0</td>\n",
              "      <td>0.1</td>\n",
              "      <td>NaN</td>\n",
              "      <td>NaN</td>\n",
              "    </tr>\n",
              "    <tr>\n",
              "      <th>2</th>\n",
              "      <td>RE</td>\n",
              "      <td>09.06.1975</td>\n",
              "      <td>1975</td>\n",
              "      <td>6</td>\n",
              "      <td>9</td>\n",
              "      <td>13.4</td>\n",
              "      <td>NaN</td>\n",
              "      <td>NaN</td>\n",
              "      <td>NaN</td>\n",
              "      <td>NaN</td>\n",
              "      <td>8.1</td>\n",
              "      <td>290.0</td>\n",
              "      <td>2.60</td>\n",
              "      <td>51.3024</td>\n",
              "      <td>5.8368</td>\n",
              "      <td>0.03</td>\n",
              "      <td>0.7</td>\n",
              "      <td>0.01</td>\n",
              "      <td>NaN</td>\n",
              "      <td>NaN</td>\n",
              "      <td>0.03</td>\n",
              "      <td>0.18</td>\n",
              "      <td>6.0</td>\n",
              "      <td>4.0</td>\n",
              "      <td>29.0</td>\n",
              "      <td>4.8</td>\n",
              "      <td>1.3</td>\n",
              "      <td>0.06</td>\n",
              "      <td>NaN</td>\n",
              "      <td>2.2</td>\n",
              "      <td>1.8</td>\n",
              "      <td>6.2</td>\n",
              "      <td>2.0</td>\n",
              "      <td>10.0</td>\n",
              "      <td>1.0</td>\n",
              "      <td>4.0</td>\n",
              "      <td>0.1</td>\n",
              "      <td>NaN</td>\n",
              "      <td>NaN</td>\n",
              "    </tr>\n",
              "    <tr>\n",
              "      <th>3</th>\n",
              "      <td>RE</td>\n",
              "      <td>16.06.1975</td>\n",
              "      <td>1975</td>\n",
              "      <td>6</td>\n",
              "      <td>16</td>\n",
              "      <td>14.9</td>\n",
              "      <td>NaN</td>\n",
              "      <td>NaN</td>\n",
              "      <td>NaN</td>\n",
              "      <td>NaN</td>\n",
              "      <td>8.2</td>\n",
              "      <td>280.0</td>\n",
              "      <td>2.44</td>\n",
              "      <td>48.8976</td>\n",
              "      <td>7.2960</td>\n",
              "      <td>0.02</td>\n",
              "      <td>0.7</td>\n",
              "      <td>0.06</td>\n",
              "      <td>NaN</td>\n",
              "      <td>NaN</td>\n",
              "      <td>0.04</td>\n",
              "      <td>0.18</td>\n",
              "      <td>5.4</td>\n",
              "      <td>4.0</td>\n",
              "      <td>29.0</td>\n",
              "      <td>4.9</td>\n",
              "      <td>1.3</td>\n",
              "      <td>0.07</td>\n",
              "      <td>NaN</td>\n",
              "      <td>2.4</td>\n",
              "      <td>1.8</td>\n",
              "      <td>1.2</td>\n",
              "      <td>0.5</td>\n",
              "      <td>10.0</td>\n",
              "      <td>1.0</td>\n",
              "      <td>1.0</td>\n",
              "      <td>0.1</td>\n",
              "      <td>NaN</td>\n",
              "      <td>NaN</td>\n",
              "    </tr>\n",
              "    <tr>\n",
              "      <th>4</th>\n",
              "      <td>RE</td>\n",
              "      <td>23.06.1975</td>\n",
              "      <td>1975</td>\n",
              "      <td>6</td>\n",
              "      <td>23</td>\n",
              "      <td>14.4</td>\n",
              "      <td>NaN</td>\n",
              "      <td>NaN</td>\n",
              "      <td>NaN</td>\n",
              "      <td>NaN</td>\n",
              "      <td>7.9</td>\n",
              "      <td>270.0</td>\n",
              "      <td>2.48</td>\n",
              "      <td>53.7072</td>\n",
              "      <td>5.8368</td>\n",
              "      <td>0.02</td>\n",
              "      <td>0.8</td>\n",
              "      <td>0.02</td>\n",
              "      <td>NaN</td>\n",
              "      <td>NaN</td>\n",
              "      <td>0.04</td>\n",
              "      <td>0.15</td>\n",
              "      <td>5.4</td>\n",
              "      <td>4.0</td>\n",
              "      <td>29.0</td>\n",
              "      <td>4.6</td>\n",
              "      <td>1.5</td>\n",
              "      <td>0.16</td>\n",
              "      <td>NaN</td>\n",
              "      <td>3.4</td>\n",
              "      <td>1.9</td>\n",
              "      <td>22.0</td>\n",
              "      <td>1.0</td>\n",
              "      <td>10.0</td>\n",
              "      <td>2.0</td>\n",
              "      <td>2.0</td>\n",
              "      <td>0.1</td>\n",
              "      <td>NaN</td>\n",
              "      <td>NaN</td>\n",
              "    </tr>\n",
              "  </tbody>\n",
              "</table>\n",
              "</div>"
            ],
            "text/plain": [
              "  Kürzel        Date  year  month  ...  Blei  Cadmium  Nickel  Quecksilber\n",
              "0     RE  26.05.1975  1975      5  ...   0.5      0.1     NaN          NaN\n",
              "1     RE  02.06.1975  1975      6  ...   1.0      0.1     NaN          NaN\n",
              "2     RE  09.06.1975  1975      6  ...   4.0      0.1     NaN          NaN\n",
              "3     RE  16.06.1975  1975      6  ...   1.0      0.1     NaN          NaN\n",
              "4     RE  23.06.1975  1975      6  ...   2.0      0.1     NaN          NaN\n",
              "\n",
              "[5 rows x 39 columns]"
            ]
          },
          "metadata": {
            "tags": []
          },
          "execution_count": 4
        }
      ]
    },
    {
      "cell_type": "code",
      "metadata": {
        "id": "dlKUXJHNk85L",
        "colab_type": "code",
        "colab": {}
      },
      "source": [
        "X = rheindata[[\"Temp.(BAFU)\",\"pH(BAFU)\",\"Leitf. 25°C(BAFU)\",\n",
        "                \"Sauerstoff\",\"Sauerstoffsätt.%\",\"pH (EAWAG)\",\n",
        "                \"Leitf.20°C (EAWAG)\",\"Calcium\",\n",
        "                \"Magnesium\",\"Nitrit\",\"Nitrat\",\n",
        "                \"Kjeldahl-Stickstoff\",\"Gesamt-Stickstoff\",\n",
        "                \"Gesamt-Phosphor\",\"Chlorid\",\"Sulfat\",\n",
        "                \"Kalium\",\n",
        "                \"Schwebstoffe\",\"Kupfer\",\n",
        "                \"Quecksilber\"]]\n",
        "y = rheindata[[\"DOC\"]]"
      ],
      "execution_count": 0,
      "outputs": []
    },
    {
      "cell_type": "markdown",
      "metadata": {
        "id": "RmJwBqJvlBwC",
        "colab_type": "text"
      },
      "source": [
        "defining train and test split"
      ]
    },
    {
      "cell_type": "code",
      "metadata": {
        "id": "o65SEdrKlieA",
        "colab_type": "code",
        "colab": {}
      },
      "source": [
        "X_train, X_test, y_train, y_test = train_test_split(X, y, test_size=0.2, random_state=123)"
      ],
      "execution_count": 0,
      "outputs": []
    },
    {
      "cell_type": "code",
      "metadata": {
        "id": "oybTd3PHllfi",
        "colab_type": "code",
        "colab": {}
      },
      "source": [
        "categorical_features_indices = np.where(X.dtypes != np.float)[0]"
      ],
      "execution_count": 0,
      "outputs": []
    },
    {
      "cell_type": "code",
      "metadata": {
        "id": "3Df2PqXMj6aL",
        "colab_type": "code",
        "colab": {
          "base_uri": "https://localhost:8080/",
          "height": 36
        },
        "outputId": "ab90872a-fc89-498c-c0ef-d906fbdea990"
      },
      "source": [
        "data_dmatrix = xgb.DMatrix(data=X,label=y)\n",
        "data_dmatrix"
      ],
      "execution_count": 15,
      "outputs": [
        {
          "output_type": "execute_result",
          "data": {
            "text/plain": [
              "<xgboost.core.DMatrix at 0x7fed71c204a8>"
            ]
          },
          "metadata": {
            "tags": []
          },
          "execution_count": 15
        }
      ]
    },
    {
      "cell_type": "markdown",
      "metadata": {
        "id": "XPoRtN_Moado",
        "colab_type": "text"
      },
      "source": [
        "# Model"
      ]
    },
    {
      "cell_type": "markdown",
      "metadata": {
        "id": "KZ3l8g9rojUr",
        "colab_type": "text"
      },
      "source": [
        "varying different kind of parameters (f.ex. iterations, learing rate and depth) to find a minimal RSME"
      ]
    },
    {
      "cell_type": "code",
      "metadata": {
        "id": "aokmIMxUj6bA",
        "colab_type": "code",
        "colab": {}
      },
      "source": [
        "xg_reg = xgb.XGBRegressor(objective ='reg:linear', colsample_bytree = 0.6, learning_rate = 0.4,\n",
        "                max_depth = 5, alpha = 10, n_estimators = 10)"
      ],
      "execution_count": 0,
      "outputs": []
    },
    {
      "cell_type": "code",
      "metadata": {
        "id": "ySAIcg-1j6bd",
        "colab_type": "code",
        "colab": {
          "base_uri": "https://localhost:8080/",
          "height": 36
        },
        "outputId": "2126502b-bd96-4584-82ff-f0854fabc3f6"
      },
      "source": [
        "xg_reg.fit(X_train,y_train)\n",
        "\n",
        "preds = xg_reg.predict(X_test)"
      ],
      "execution_count": 11,
      "outputs": [
        {
          "output_type": "stream",
          "text": [
            "[14:27:11] WARNING: /workspace/src/objective/regression_obj.cu:152: reg:linear is now deprecated in favor of reg:squarederror.\n"
          ],
          "name": "stdout"
        }
      ]
    },
    {
      "cell_type": "code",
      "metadata": {
        "id": "CfzuX9twj6b8",
        "colab_type": "code",
        "colab": {
          "base_uri": "https://localhost:8080/",
          "height": 36
        },
        "outputId": "56fcaa26-3be6-45c0-9794-6e98d8a9da16"
      },
      "source": [
        "rmse = np.sqrt(mean_squared_error(y_test, preds))\n",
        "print(\"RMSE: %f\" % (rmse))"
      ],
      "execution_count": 13,
      "outputs": [
        {
          "output_type": "stream",
          "text": [
            "RMSE: 0.474842\n"
          ],
          "name": "stdout"
        }
      ]
    },
    {
      "cell_type": "code",
      "metadata": {
        "id": "0KORvm4ij6cg",
        "colab_type": "code",
        "colab": {
          "base_uri": "https://localhost:8080/",
          "height": 479
        },
        "outputId": "23b57040-5aae-44fd-bf3e-6a18d0cd1cf7"
      },
      "source": [
        "params = {\"objective\":\"reg:linear\",'colsample_bytree': 0.6,'learning_rate': 0.01,\n",
        "                'max_depth': 5, 'alpha': 10}\n",
        "\n",
        "cv_results = xgb.cv(dtrain=data_dmatrix, params=params, nfold=3,\n",
        "                    num_boost_round=1000,early_stopping_rounds=10,metrics=\"rmse\", as_pandas=True, seed=123)\n",
        "cv_results"
      ],
      "execution_count": 19,
      "outputs": [
        {
          "output_type": "stream",
          "text": [
            "[14:33:04] WARNING: /workspace/src/objective/regression_obj.cu:152: reg:linear is now deprecated in favor of reg:squarederror.\n",
            "[14:33:04] WARNING: /workspace/src/objective/regression_obj.cu:152: reg:linear is now deprecated in favor of reg:squarederror.\n",
            "[14:33:04] WARNING: /workspace/src/objective/regression_obj.cu:152: reg:linear is now deprecated in favor of reg:squarederror.\n"
          ],
          "name": "stdout"
        },
        {
          "output_type": "execute_result",
          "data": {
            "text/html": [
              "<div>\n",
              "<style scoped>\n",
              "    .dataframe tbody tr th:only-of-type {\n",
              "        vertical-align: middle;\n",
              "    }\n",
              "\n",
              "    .dataframe tbody tr th {\n",
              "        vertical-align: top;\n",
              "    }\n",
              "\n",
              "    .dataframe thead th {\n",
              "        text-align: right;\n",
              "    }\n",
              "</style>\n",
              "<table border=\"1\" class=\"dataframe\">\n",
              "  <thead>\n",
              "    <tr style=\"text-align: right;\">\n",
              "      <th></th>\n",
              "      <th>train-rmse-mean</th>\n",
              "      <th>train-rmse-std</th>\n",
              "      <th>test-rmse-mean</th>\n",
              "      <th>test-rmse-std</th>\n",
              "    </tr>\n",
              "  </thead>\n",
              "  <tbody>\n",
              "    <tr>\n",
              "      <th>0</th>\n",
              "      <td>1.256150</td>\n",
              "      <td>0.015654</td>\n",
              "      <td>1.255989</td>\n",
              "      <td>0.032041</td>\n",
              "    </tr>\n",
              "    <tr>\n",
              "      <th>1</th>\n",
              "      <td>1.245639</td>\n",
              "      <td>0.015546</td>\n",
              "      <td>1.245432</td>\n",
              "      <td>0.032366</td>\n",
              "    </tr>\n",
              "    <tr>\n",
              "      <th>2</th>\n",
              "      <td>1.235197</td>\n",
              "      <td>0.015537</td>\n",
              "      <td>1.235141</td>\n",
              "      <td>0.032521</td>\n",
              "    </tr>\n",
              "    <tr>\n",
              "      <th>3</th>\n",
              "      <td>1.224880</td>\n",
              "      <td>0.015564</td>\n",
              "      <td>1.224953</td>\n",
              "      <td>0.032612</td>\n",
              "    </tr>\n",
              "    <tr>\n",
              "      <th>4</th>\n",
              "      <td>1.214766</td>\n",
              "      <td>0.015589</td>\n",
              "      <td>1.214927</td>\n",
              "      <td>0.032683</td>\n",
              "    </tr>\n",
              "    <tr>\n",
              "      <th>...</th>\n",
              "      <td>...</td>\n",
              "      <td>...</td>\n",
              "      <td>...</td>\n",
              "      <td>...</td>\n",
              "    </tr>\n",
              "    <tr>\n",
              "      <th>995</th>\n",
              "      <td>0.355731</td>\n",
              "      <td>0.006996</td>\n",
              "      <td>0.429542</td>\n",
              "      <td>0.027128</td>\n",
              "    </tr>\n",
              "    <tr>\n",
              "      <th>996</th>\n",
              "      <td>0.355690</td>\n",
              "      <td>0.007006</td>\n",
              "      <td>0.429525</td>\n",
              "      <td>0.027118</td>\n",
              "    </tr>\n",
              "    <tr>\n",
              "      <th>997</th>\n",
              "      <td>0.355648</td>\n",
              "      <td>0.006998</td>\n",
              "      <td>0.429524</td>\n",
              "      <td>0.027111</td>\n",
              "    </tr>\n",
              "    <tr>\n",
              "      <th>998</th>\n",
              "      <td>0.355610</td>\n",
              "      <td>0.006993</td>\n",
              "      <td>0.429521</td>\n",
              "      <td>0.027102</td>\n",
              "    </tr>\n",
              "    <tr>\n",
              "      <th>999</th>\n",
              "      <td>0.355553</td>\n",
              "      <td>0.006997</td>\n",
              "      <td>0.429506</td>\n",
              "      <td>0.027102</td>\n",
              "    </tr>\n",
              "  </tbody>\n",
              "</table>\n",
              "<p>1000 rows × 4 columns</p>\n",
              "</div>"
            ],
            "text/plain": [
              "     train-rmse-mean  train-rmse-std  test-rmse-mean  test-rmse-std\n",
              "0           1.256150        0.015654        1.255989       0.032041\n",
              "1           1.245639        0.015546        1.245432       0.032366\n",
              "2           1.235197        0.015537        1.235141       0.032521\n",
              "3           1.224880        0.015564        1.224953       0.032612\n",
              "4           1.214766        0.015589        1.214927       0.032683\n",
              "..               ...             ...             ...            ...\n",
              "995         0.355731        0.006996        0.429542       0.027128\n",
              "996         0.355690        0.007006        0.429525       0.027118\n",
              "997         0.355648        0.006998        0.429524       0.027111\n",
              "998         0.355610        0.006993        0.429521       0.027102\n",
              "999         0.355553        0.006997        0.429506       0.027102\n",
              "\n",
              "[1000 rows x 4 columns]"
            ]
          },
          "metadata": {
            "tags": []
          },
          "execution_count": 19
        }
      ]
    },
    {
      "cell_type": "code",
      "metadata": {
        "id": "5-pY1Ekuoou7",
        "colab_type": "code",
        "colab": {
          "base_uri": "https://localhost:8080/",
          "height": 479
        },
        "outputId": "1d147d2a-8df9-4baa-dcf7-d4883acc15c3"
      },
      "source": [
        "params = {\"objective\":\"reg:linear\",'colsample_bytree': 0.6,'learning_rate': 0.05,\n",
        "                'max_depth': 5, 'alpha': 10}\n",
        "\n",
        "cv_results = xgb.cv(dtrain=data_dmatrix, params=params, nfold=3,\n",
        "                    num_boost_round=1000,early_stopping_rounds=10,metrics=\"rmse\", as_pandas=True, seed=123)\n",
        "cv_results"
      ],
      "execution_count": 21,
      "outputs": [
        {
          "output_type": "stream",
          "text": [
            "[14:39:26] WARNING: /workspace/src/objective/regression_obj.cu:152: reg:linear is now deprecated in favor of reg:squarederror.\n",
            "[14:39:26] WARNING: /workspace/src/objective/regression_obj.cu:152: reg:linear is now deprecated in favor of reg:squarederror.\n",
            "[14:39:26] WARNING: /workspace/src/objective/regression_obj.cu:152: reg:linear is now deprecated in favor of reg:squarederror.\n"
          ],
          "name": "stdout"
        },
        {
          "output_type": "execute_result",
          "data": {
            "text/html": [
              "<div>\n",
              "<style scoped>\n",
              "    .dataframe tbody tr th:only-of-type {\n",
              "        vertical-align: middle;\n",
              "    }\n",
              "\n",
              "    .dataframe tbody tr th {\n",
              "        vertical-align: top;\n",
              "    }\n",
              "\n",
              "    .dataframe thead th {\n",
              "        text-align: right;\n",
              "    }\n",
              "</style>\n",
              "<table border=\"1\" class=\"dataframe\">\n",
              "  <thead>\n",
              "    <tr style=\"text-align: right;\">\n",
              "      <th></th>\n",
              "      <th>train-rmse-mean</th>\n",
              "      <th>train-rmse-std</th>\n",
              "      <th>test-rmse-mean</th>\n",
              "      <th>test-rmse-std</th>\n",
              "    </tr>\n",
              "  </thead>\n",
              "  <tbody>\n",
              "    <tr>\n",
              "      <th>0</th>\n",
              "      <td>1.213755</td>\n",
              "      <td>0.015434</td>\n",
              "      <td>1.214197</td>\n",
              "      <td>0.032796</td>\n",
              "    </tr>\n",
              "    <tr>\n",
              "      <th>1</th>\n",
              "      <td>1.163700</td>\n",
              "      <td>0.014940</td>\n",
              "      <td>1.163958</td>\n",
              "      <td>0.034373</td>\n",
              "    </tr>\n",
              "    <tr>\n",
              "      <th>2</th>\n",
              "      <td>1.116189</td>\n",
              "      <td>0.014850</td>\n",
              "      <td>1.117207</td>\n",
              "      <td>0.035168</td>\n",
              "    </tr>\n",
              "    <tr>\n",
              "      <th>3</th>\n",
              "      <td>1.071458</td>\n",
              "      <td>0.015022</td>\n",
              "      <td>1.072978</td>\n",
              "      <td>0.035475</td>\n",
              "    </tr>\n",
              "    <tr>\n",
              "      <th>4</th>\n",
              "      <td>1.029659</td>\n",
              "      <td>0.015119</td>\n",
              "      <td>1.031746</td>\n",
              "      <td>0.035760</td>\n",
              "    </tr>\n",
              "    <tr>\n",
              "      <th>...</th>\n",
              "      <td>...</td>\n",
              "      <td>...</td>\n",
              "      <td>...</td>\n",
              "      <td>...</td>\n",
              "    </tr>\n",
              "    <tr>\n",
              "      <th>271</th>\n",
              "      <td>0.344752</td>\n",
              "      <td>0.006128</td>\n",
              "      <td>0.430139</td>\n",
              "      <td>0.026001</td>\n",
              "    </tr>\n",
              "    <tr>\n",
              "      <th>272</th>\n",
              "      <td>0.344642</td>\n",
              "      <td>0.006186</td>\n",
              "      <td>0.430122</td>\n",
              "      <td>0.026013</td>\n",
              "    </tr>\n",
              "    <tr>\n",
              "      <th>273</th>\n",
              "      <td>0.344539</td>\n",
              "      <td>0.006159</td>\n",
              "      <td>0.430118</td>\n",
              "      <td>0.026019</td>\n",
              "    </tr>\n",
              "    <tr>\n",
              "      <th>274</th>\n",
              "      <td>0.344446</td>\n",
              "      <td>0.006121</td>\n",
              "      <td>0.430117</td>\n",
              "      <td>0.026049</td>\n",
              "    </tr>\n",
              "    <tr>\n",
              "      <th>275</th>\n",
              "      <td>0.344369</td>\n",
              "      <td>0.006125</td>\n",
              "      <td>0.430105</td>\n",
              "      <td>0.026034</td>\n",
              "    </tr>\n",
              "  </tbody>\n",
              "</table>\n",
              "<p>276 rows × 4 columns</p>\n",
              "</div>"
            ],
            "text/plain": [
              "     train-rmse-mean  train-rmse-std  test-rmse-mean  test-rmse-std\n",
              "0           1.213755        0.015434        1.214197       0.032796\n",
              "1           1.163700        0.014940        1.163958       0.034373\n",
              "2           1.116189        0.014850        1.117207       0.035168\n",
              "3           1.071458        0.015022        1.072978       0.035475\n",
              "4           1.029659        0.015119        1.031746       0.035760\n",
              "..               ...             ...             ...            ...\n",
              "271         0.344752        0.006128        0.430139       0.026001\n",
              "272         0.344642        0.006186        0.430122       0.026013\n",
              "273         0.344539        0.006159        0.430118       0.026019\n",
              "274         0.344446        0.006121        0.430117       0.026049\n",
              "275         0.344369        0.006125        0.430105       0.026034\n",
              "\n",
              "[276 rows x 4 columns]"
            ]
          },
          "metadata": {
            "tags": []
          },
          "execution_count": 21
        }
      ]
    },
    {
      "cell_type": "code",
      "metadata": {
        "id": "PjAFi1qIos5P",
        "colab_type": "code",
        "colab": {
          "base_uri": "https://localhost:8080/",
          "height": 479
        },
        "outputId": "058aa06c-e53f-4f17-ce6d-70f3f6429c8a"
      },
      "source": [
        "params = {\"objective\":\"reg:linear\",'colsample_bytree': 0.6,'learning_rate': 0.005,\n",
        "                'max_depth': 10, 'alpha': 10}\n",
        "\n",
        "cv_results = xgb.cv(dtrain=data_dmatrix, params=params, nfold=3,\n",
        "                    num_boost_round=1000,early_stopping_rounds=10,metrics=\"rmse\", as_pandas=True, seed=123)\n",
        "cv_results"
      ],
      "execution_count": 22,
      "outputs": [
        {
          "output_type": "stream",
          "text": [
            "[14:39:50] WARNING: /workspace/src/objective/regression_obj.cu:152: reg:linear is now deprecated in favor of reg:squarederror.\n",
            "[14:39:50] WARNING: /workspace/src/objective/regression_obj.cu:152: reg:linear is now deprecated in favor of reg:squarederror.\n",
            "[14:39:50] WARNING: /workspace/src/objective/regression_obj.cu:152: reg:linear is now deprecated in favor of reg:squarederror.\n"
          ],
          "name": "stdout"
        },
        {
          "output_type": "execute_result",
          "data": {
            "text/html": [
              "<div>\n",
              "<style scoped>\n",
              "    .dataframe tbody tr th:only-of-type {\n",
              "        vertical-align: middle;\n",
              "    }\n",
              "\n",
              "    .dataframe tbody tr th {\n",
              "        vertical-align: top;\n",
              "    }\n",
              "\n",
              "    .dataframe thead th {\n",
              "        text-align: right;\n",
              "    }\n",
              "</style>\n",
              "<table border=\"1\" class=\"dataframe\">\n",
              "  <thead>\n",
              "    <tr style=\"text-align: right;\">\n",
              "      <th></th>\n",
              "      <th>train-rmse-mean</th>\n",
              "      <th>train-rmse-std</th>\n",
              "      <th>test-rmse-mean</th>\n",
              "      <th>test-rmse-std</th>\n",
              "    </tr>\n",
              "  </thead>\n",
              "  <tbody>\n",
              "    <tr>\n",
              "      <th>0</th>\n",
              "      <td>1.261465</td>\n",
              "      <td>0.015681</td>\n",
              "      <td>1.261235</td>\n",
              "      <td>0.031943</td>\n",
              "    </tr>\n",
              "    <tr>\n",
              "      <th>1</th>\n",
              "      <td>1.256177</td>\n",
              "      <td>0.015628</td>\n",
              "      <td>1.255930</td>\n",
              "      <td>0.032110</td>\n",
              "    </tr>\n",
              "    <tr>\n",
              "      <th>2</th>\n",
              "      <td>1.250894</td>\n",
              "      <td>0.015621</td>\n",
              "      <td>1.250728</td>\n",
              "      <td>0.032184</td>\n",
              "    </tr>\n",
              "    <tr>\n",
              "      <th>3</th>\n",
              "      <td>1.245646</td>\n",
              "      <td>0.015633</td>\n",
              "      <td>1.245548</td>\n",
              "      <td>0.032228</td>\n",
              "    </tr>\n",
              "    <tr>\n",
              "      <th>4</th>\n",
              "      <td>1.240466</td>\n",
              "      <td>0.015645</td>\n",
              "      <td>1.240430</td>\n",
              "      <td>0.032265</td>\n",
              "    </tr>\n",
              "    <tr>\n",
              "      <th>...</th>\n",
              "      <td>...</td>\n",
              "      <td>...</td>\n",
              "      <td>...</td>\n",
              "      <td>...</td>\n",
              "    </tr>\n",
              "    <tr>\n",
              "      <th>995</th>\n",
              "      <td>0.365617</td>\n",
              "      <td>0.005698</td>\n",
              "      <td>0.438992</td>\n",
              "      <td>0.029315</td>\n",
              "    </tr>\n",
              "    <tr>\n",
              "      <th>996</th>\n",
              "      <td>0.365545</td>\n",
              "      <td>0.005714</td>\n",
              "      <td>0.438983</td>\n",
              "      <td>0.029309</td>\n",
              "    </tr>\n",
              "    <tr>\n",
              "      <th>997</th>\n",
              "      <td>0.365483</td>\n",
              "      <td>0.005712</td>\n",
              "      <td>0.438963</td>\n",
              "      <td>0.029304</td>\n",
              "    </tr>\n",
              "    <tr>\n",
              "      <th>998</th>\n",
              "      <td>0.365408</td>\n",
              "      <td>0.005735</td>\n",
              "      <td>0.438945</td>\n",
              "      <td>0.029298</td>\n",
              "    </tr>\n",
              "    <tr>\n",
              "      <th>999</th>\n",
              "      <td>0.365343</td>\n",
              "      <td>0.005721</td>\n",
              "      <td>0.438929</td>\n",
              "      <td>0.029292</td>\n",
              "    </tr>\n",
              "  </tbody>\n",
              "</table>\n",
              "<p>1000 rows × 4 columns</p>\n",
              "</div>"
            ],
            "text/plain": [
              "     train-rmse-mean  train-rmse-std  test-rmse-mean  test-rmse-std\n",
              "0           1.261465        0.015681        1.261235       0.031943\n",
              "1           1.256177        0.015628        1.255930       0.032110\n",
              "2           1.250894        0.015621        1.250728       0.032184\n",
              "3           1.245646        0.015633        1.245548       0.032228\n",
              "4           1.240466        0.015645        1.240430       0.032265\n",
              "..               ...             ...             ...            ...\n",
              "995         0.365617        0.005698        0.438992       0.029315\n",
              "996         0.365545        0.005714        0.438983       0.029309\n",
              "997         0.365483        0.005712        0.438963       0.029304\n",
              "998         0.365408        0.005735        0.438945       0.029298\n",
              "999         0.365343        0.005721        0.438929       0.029292\n",
              "\n",
              "[1000 rows x 4 columns]"
            ]
          },
          "metadata": {
            "tags": []
          },
          "execution_count": 22
        }
      ]
    }
  ]
}